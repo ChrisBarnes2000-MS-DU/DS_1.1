{
 "cells": [
  {
   "cell_type": "code",
   "execution_count": 1,
   "metadata": {},
   "outputs": [],
   "source": [
    "import pandas as pd\n",
    "df = pd.read_csv('Datasets/tennis.txt', delimiter=\"\\t\", header=None, names=['Outlook', 'Temp', 'Humidity', 'Wind', 'Decision'])"
   ]
  },
  {
   "cell_type": "code",
   "execution_count": 17,
   "metadata": {},
   "outputs": [
    {
     "data": {
      "text/html": [
       "<div>\n",
       "<style scoped>\n",
       "    .dataframe tbody tr th:only-of-type {\n",
       "        vertical-align: middle;\n",
       "    }\n",
       "\n",
       "    .dataframe tbody tr th {\n",
       "        vertical-align: top;\n",
       "    }\n",
       "\n",
       "    .dataframe thead th {\n",
       "        text-align: right;\n",
       "    }\n",
       "</style>\n",
       "<table border=\"1\" class=\"dataframe\">\n",
       "  <thead>\n",
       "    <tr style=\"text-align: right;\">\n",
       "      <th></th>\n",
       "      <th>Outlook</th>\n",
       "      <th>Temp</th>\n",
       "      <th>Humidity</th>\n",
       "      <th>Wind</th>\n",
       "      <th>Decision</th>\n",
       "    </tr>\n",
       "  </thead>\n",
       "  <tbody>\n",
       "    <tr>\n",
       "      <th>1</th>\n",
       "      <td>Sunny</td>\n",
       "      <td>Hot</td>\n",
       "      <td>High</td>\n",
       "      <td>Weak</td>\n",
       "      <td>No</td>\n",
       "    </tr>\n",
       "    <tr>\n",
       "      <th>2</th>\n",
       "      <td>Sunny</td>\n",
       "      <td>Hot</td>\n",
       "      <td>High</td>\n",
       "      <td>Strong</td>\n",
       "      <td>No</td>\n",
       "    </tr>\n",
       "    <tr>\n",
       "      <th>3</th>\n",
       "      <td>Overcast</td>\n",
       "      <td>Hot</td>\n",
       "      <td>High</td>\n",
       "      <td>Weak</td>\n",
       "      <td>Yes</td>\n",
       "    </tr>\n",
       "    <tr>\n",
       "      <th>4</th>\n",
       "      <td>Rain</td>\n",
       "      <td>Mild</td>\n",
       "      <td>High</td>\n",
       "      <td>Weak</td>\n",
       "      <td>Yes</td>\n",
       "    </tr>\n",
       "    <tr>\n",
       "      <th>5</th>\n",
       "      <td>Rain</td>\n",
       "      <td>Cool</td>\n",
       "      <td>Normal</td>\n",
       "      <td>Weak</td>\n",
       "      <td>Yes</td>\n",
       "    </tr>\n",
       "  </tbody>\n",
       "</table>\n",
       "</div>"
      ],
      "text/plain": [
       "    Outlook  Temp Humidity    Wind Decision\n",
       "1     Sunny   Hot     High    Weak       No\n",
       "2     Sunny   Hot     High  Strong       No\n",
       "3  Overcast   Hot     High    Weak      Yes\n",
       "4      Rain  Mild     High    Weak      Yes\n",
       "5      Rain  Cool   Normal    Weak      Yes"
      ]
     },
     "execution_count": 17,
     "metadata": {},
     "output_type": "execute_result"
    }
   ],
   "source": [
    "df.columns\n",
    "\n",
    "df.head()"
   ]
  },
  {
   "cell_type": "code",
   "execution_count": 3,
   "metadata": {},
   "outputs": [
    {
     "data": {
      "text/plain": [
       "Yes    6\n",
       "No     2\n",
       "Name: Decision, dtype: int64"
      ]
     },
     "execution_count": 3,
     "metadata": {},
     "output_type": "execute_result"
    }
   ],
   "source": [
    "df[df['Wind'] == 'Weak']['Decision'].value_counts()"
   ]
  },
  {
   "cell_type": "code",
   "execution_count": 4,
   "metadata": {},
   "outputs": [
    {
     "data": {
      "text/plain": [
       "0.75"
      ]
     },
     "execution_count": 4,
     "metadata": {},
     "output_type": "execute_result"
    }
   ],
   "source": [
    "Prob_yes = df[df['Wind'] == 'Weak']['Decision'].value_counts()['Yes']\n",
    "Prob_no = df[df['Wind'] == 'Weak']['Decision'].value_counts()['No']\n",
    "Prob_tot = Prob_yes + Prob_no\n",
    "\n",
    "Prob_yes / Prob_tot"
   ]
  },
  {
   "cell_type": "code",
   "execution_count": 5,
   "metadata": {},
   "outputs": [
    {
     "data": {
      "text/plain": [
       "75.0"
      ]
     },
     "execution_count": 5,
     "metadata": {},
     "output_type": "execute_result"
    }
   ],
   "source": [
    "(6/(6+2))*100"
   ]
  },
  {
   "cell_type": "code",
   "execution_count": null,
   "metadata": {},
   "outputs": [],
   "source": []
  },
  {
   "cell_type": "code",
   "execution_count": 46,
   "metadata": {},
   "outputs": [
    {
     "name": "stdout",
     "output_type": "stream",
     "text": [
      "Wind Decisions:\n",
      "No:0.25\tYes:0.75\n",
      "No:0.50\tYes:0.50\n",
      "\n",
      "Temp Decisions:\n",
      "No:0.50\tYes:0.50\n",
      "No:0.33\tYes:0.67\n",
      "No:0.25\tYes:0.75\n",
      "\n",
      "Humidity Decisions:\n",
      "No:0.57\tYes:0.43\n",
      "No:0.14\tYes:0.86\n",
      "\n",
      "Outlook Decisions:\n",
      "No:0.60\tYes:0.40\n",
      "No:0.40\tYes:0.60\n"
     ]
    }
   ],
   "source": [
    "def make_decision(issue, condition):\n",
    "    Prob_yes = df[df[issue] == condition]['Decision'].value_counts()['Yes']\n",
    "    Prob_no = df[df[issue] == condition]['Decision'].value_counts()['No']\n",
    "    Prob_tot = Prob_yes + Prob_no\n",
    "\n",
    "    return 'No:%.2f' %(Prob_no/Prob_tot) + '\\tYes:%.2f' %(Prob_yes/Prob_tot)\n",
    "\n",
    "print(\"Wind Decisions:\")\n",
    "print(make_decision('Wind', 'Weak'))\n",
    "print(make_decision('Wind', 'Strong'))\n",
    "print(\"\\nTemp Decisions:\")\n",
    "print(make_decision('Temp', 'Hot'))\n",
    "print(make_decision('Temp', 'Mild'))\n",
    "print(make_decision('Temp', 'Cool'))\n",
    "print(\"\\nHumidity Decisions:\")\n",
    "print(make_decision('Humidity', 'High'))\n",
    "print(make_decision('Humidity', 'Normal'))\n",
    "print(\"\\nOutlook Decisions:\")\n",
    "print(make_decision('Outlook', 'Sunny'))\n",
    "# print(make_decision('Outlook', 'Overcast'))\n",
    "print(make_decision('Outlook', 'Rain'))\n"
   ]
  },
  {
   "cell_type": "code",
   "execution_count": 49,
   "metadata": {},
   "outputs": [
    {
     "name": "stdout",
     "output_type": "stream",
     "text": [
      "{'No': 0.25, 'Yes': 0.75}\n",
      "{'No': 0.5, 'Yes': 0.5}\n"
     ]
    }
   ],
   "source": [
    "def conditional_prob(c1, c2, condition):\n",
    "    df_new = df[df[c1] == condition][c2]\n",
    "    s = df_new.unique()\n",
    "    population_size = len(df_new)\n",
    "    pr = {}\n",
    "    for i in s:\n",
    "        pr[i] = len(df[(df[c1] == condition) & (df[c2]== i)]) / population_size\n",
    "\n",
    "    return pr\n",
    "\n",
    "print(conditional_prob('Wind', 'Decision', 'Weak'))\n",
    "print(conditional_prob('Wind', 'Decision', 'Strong'))"
   ]
  },
  {
   "cell_type": "code",
   "execution_count": 47,
   "metadata": {},
   "outputs": [],
   "source": [
    "def Do_They_Tennis(Column1, Column2, Conditions):\n",
    "    DFNew = df[df[Column1]==Conditions][Column2]\n",
    "    Unique = DFNew.unique()\n",
    "    Population = len(DFNew)\n",
    "    Probability = {}\n",
    "    for I in Unique:\n",
    "        Probability[I] = len(df[(df[Column1]==Conditions)&(df[Column2]==I)])/Population\n",
    "        return Probability\n",
    "    "
   ]
  },
  {
   "cell_type": "code",
   "execution_count": 48,
   "metadata": {},
   "outputs": [
    {
     "name": "stdout",
     "output_type": "stream",
     "text": [
      "{'Yes': 6, 'No': 2}\n"
     ]
    }
   ],
   "source": [
    "#method that takes a Column name and that column's value, and return probabililty of yes and no\n",
    "def get_did_play(df, column, value):\n",
    "    P_column_is_value = df[df[column] == value]\n",
    "    yes_decision = df[ (df[column] == value) & (df['Decision'] == \"Yes\")]\n",
    "    no_decision = df[ (df[column] == value) & (df['Decision'] == \"No\")]\n",
    "    return {\"Yes\": len(yes_decision), \"No\": len(no_decision)}\n",
    "print(get_did_play(df, \"Wind\", \"Weak\"))"
   ]
  },
  {
   "cell_type": "code",
   "execution_count": null,
   "metadata": {},
   "outputs": [],
   "source": []
  }
 ],
 "metadata": {
  "kernelspec": {
   "display_name": "Python 3",
   "language": "python",
   "name": "python3"
  },
  "language_info": {
   "codemirror_mode": {
    "name": "ipython",
    "version": 3
   },
   "file_extension": ".py",
   "mimetype": "text/x-python",
   "name": "python",
   "nbconvert_exporter": "python",
   "pygments_lexer": "ipython3",
   "version": "3.7.6"
  }
 },
 "nbformat": 4,
 "nbformat_minor": 2
}
