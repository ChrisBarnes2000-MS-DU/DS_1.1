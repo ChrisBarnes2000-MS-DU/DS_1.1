{
 "cells": [
  {
   "cell_type": "markdown",
   "metadata": {
    "slideshow": {
     "slide_type": "slide"
    }
   },
   "source": [
    "# Ninja Warrior Dataset Exploration"
   ]
  },
  {
   "cell_type": "markdown",
   "metadata": {
    "slideshow": {
     "slide_type": "-"
    }
   },
   "source": [
    "### DESCRIPTION: Obstacle history of American Ninja Warrior seasons 1-10\n",
    "#### Dataset: https://data.world/ninja/anw-obstacle-history\n",
    "\n",
    "#### SUMMARY\n",
    "This dataset includes every obstacle in the history of American Ninja Warrior from season 1 to 10. This includes the obstacles at Sasuke (also known as the original Ninja Warrior in Japan) during seasons 1-3 when American Ninja Warrior (ANW) was on G4, and the top 10 competitors from the semi-finals round of ANW were sent to Sasuke to compete. Starting in season 4 of ANW, which is known as the \"NBC era\" when the show took on the regional/city formats for both qualifying and semi-final rounds with the finalists from each region competing at the National Finals of ANW in Las Vegas.\n",
    "\n",
    "Credit to Sasukepedia as the [original source](https://sasukepedia.fandom.com/wiki/List_of_American_Ninja_Warrior_obstacles)"
   ]
  },
  {
   "cell_type": "markdown",
   "metadata": {
    "slideshow": {
     "slide_type": "fragment"
    }
   },
   "source": [
    "### Questions to Consider Answering\n",
    "\n",
    "- What sorts of information does this dataset contain?\n",
    "    Season\tLocation\tRound/Stage\tObstacle Name\tObstacle Order\n",
    "---\n",
    "- What kinds of questions might we be able to answer with this data?\n",
    "    - What was the most occuring obstical              √\n",
    "    ---\n",
    "    - How Many Seasons are Recorded in This Dataset    √\n",
    "    - Which Season had the most obsticals              √\n",
    "    ---\n",
    "    - What location had the most obsticals             √\n",
    "    ---\n",
    "    - Which obstacles presisted over seasons  \n",
    "---\n",
    "- What kinds of questions can’t we answer with this data?\n",
    "    \n",
    "- What sorts of information might be actionable?\n",
    "    "
   ]
  },
  {
   "cell_type": "code",
   "execution_count": 1,
   "metadata": {
    "slideshow": {
     "slide_type": "slide"
    }
   },
   "outputs": [
    {
     "data": {
      "text/html": [
       "<div>\n",
       "<style scoped>\n",
       "    .dataframe tbody tr th:only-of-type {\n",
       "        vertical-align: middle;\n",
       "    }\n",
       "\n",
       "    .dataframe tbody tr th {\n",
       "        vertical-align: top;\n",
       "    }\n",
       "\n",
       "    .dataframe thead th {\n",
       "        text-align: right;\n",
       "    }\n",
       "</style>\n",
       "<table border=\"1\" class=\"dataframe\">\n",
       "  <thead>\n",
       "    <tr style=\"text-align: right;\">\n",
       "      <th></th>\n",
       "      <th>Season</th>\n",
       "      <th>Location</th>\n",
       "      <th>Round/Stage</th>\n",
       "      <th>Obstacle Name</th>\n",
       "      <th>Obstacle Order</th>\n",
       "    </tr>\n",
       "  </thead>\n",
       "  <tbody>\n",
       "    <tr>\n",
       "      <th>0</th>\n",
       "      <td>1</td>\n",
       "      <td>Venice</td>\n",
       "      <td>Qualifying</td>\n",
       "      <td>Quintuple Steps</td>\n",
       "      <td>1</td>\n",
       "    </tr>\n",
       "    <tr>\n",
       "      <th>1</th>\n",
       "      <td>1</td>\n",
       "      <td>Venice</td>\n",
       "      <td>Qualifying</td>\n",
       "      <td>Rope Swing</td>\n",
       "      <td>2</td>\n",
       "    </tr>\n",
       "    <tr>\n",
       "      <th>2</th>\n",
       "      <td>1</td>\n",
       "      <td>Venice</td>\n",
       "      <td>Qualifying</td>\n",
       "      <td>Rolling Barrel</td>\n",
       "      <td>3</td>\n",
       "    </tr>\n",
       "    <tr>\n",
       "      <th>3</th>\n",
       "      <td>1</td>\n",
       "      <td>Venice</td>\n",
       "      <td>Qualifying</td>\n",
       "      <td>Jumping Spider</td>\n",
       "      <td>4</td>\n",
       "    </tr>\n",
       "    <tr>\n",
       "      <th>4</th>\n",
       "      <td>1</td>\n",
       "      <td>Venice</td>\n",
       "      <td>Qualifying</td>\n",
       "      <td>Pipe Slider</td>\n",
       "      <td>5</td>\n",
       "    </tr>\n",
       "    <tr>\n",
       "      <th>...</th>\n",
       "      <td>...</td>\n",
       "      <td>...</td>\n",
       "      <td>...</td>\n",
       "      <td>...</td>\n",
       "      <td>...</td>\n",
       "    </tr>\n",
       "    <tr>\n",
       "      <th>884</th>\n",
       "      <td>10</td>\n",
       "      <td>Las Vegas</td>\n",
       "      <td>National Finals - Stage 3</td>\n",
       "      <td>Curved Body Prop</td>\n",
       "      <td>5</td>\n",
       "    </tr>\n",
       "    <tr>\n",
       "      <th>885</th>\n",
       "      <td>10</td>\n",
       "      <td>Las Vegas</td>\n",
       "      <td>National Finals - Stage 3</td>\n",
       "      <td>Peg Cloud</td>\n",
       "      <td>6</td>\n",
       "    </tr>\n",
       "    <tr>\n",
       "      <th>886</th>\n",
       "      <td>10</td>\n",
       "      <td>Las Vegas</td>\n",
       "      <td>National Finals - Stage 3</td>\n",
       "      <td>Time Bomb</td>\n",
       "      <td>7</td>\n",
       "    </tr>\n",
       "    <tr>\n",
       "      <th>887</th>\n",
       "      <td>10</td>\n",
       "      <td>Las Vegas</td>\n",
       "      <td>National Finals - Stage 3</td>\n",
       "      <td>Cane Lane</td>\n",
       "      <td>8</td>\n",
       "    </tr>\n",
       "    <tr>\n",
       "      <th>888</th>\n",
       "      <td>10</td>\n",
       "      <td>Las Vegas</td>\n",
       "      <td>National Finals - Stage 4</td>\n",
       "      <td>Rope Climb</td>\n",
       "      <td>1</td>\n",
       "    </tr>\n",
       "  </tbody>\n",
       "</table>\n",
       "<p>889 rows × 5 columns</p>\n",
       "</div>"
      ],
      "text/plain": [
       "     Season   Location                Round/Stage     Obstacle Name  \\\n",
       "0         1     Venice                 Qualifying   Quintuple Steps   \n",
       "1         1     Venice                 Qualifying        Rope Swing   \n",
       "2         1     Venice                 Qualifying    Rolling Barrel   \n",
       "3         1     Venice                 Qualifying    Jumping Spider   \n",
       "4         1     Venice                 Qualifying       Pipe Slider   \n",
       "..      ...        ...                        ...               ...   \n",
       "884      10  Las Vegas  National Finals - Stage 3  Curved Body Prop   \n",
       "885      10  Las Vegas  National Finals - Stage 3         Peg Cloud   \n",
       "886      10  Las Vegas  National Finals - Stage 3         Time Bomb   \n",
       "887      10  Las Vegas  National Finals - Stage 3         Cane Lane   \n",
       "888      10  Las Vegas  National Finals - Stage 4        Rope Climb   \n",
       "\n",
       "     Obstacle Order  \n",
       "0                 1  \n",
       "1                 2  \n",
       "2                 3  \n",
       "3                 4  \n",
       "4                 5  \n",
       "..              ...  \n",
       "884               5  \n",
       "885               6  \n",
       "886               7  \n",
       "887               8  \n",
       "888               1  \n",
       "\n",
       "[889 rows x 5 columns]"
      ]
     },
     "execution_count": 1,
     "metadata": {},
     "output_type": "execute_result"
    }
   ],
   "source": [
    "# Pandas is a library for basic data analysis\n",
    "import pandas as pd\n",
    "\n",
    "# NumPy is a library for advanced mathematical computation\n",
    "import numpy as np\n",
    "\n",
    "# MatPlotLib is a library for basic data visualization\n",
    "import matplotlib.pyplot as plt\n",
    "\n",
    "# SeaBorn is a library for advanced data visualization\n",
    "import seaborn as sns\n",
    "\n",
    "# Dataset from above\n",
    "df = pd.read_csv('American Ninja Warrior Obstacle History.csv')\n",
    "# .set_index('Season')\n",
    "df"
   ]
  },
  {
   "cell_type": "markdown",
   "metadata": {
    "slideshow": {
     "slide_type": "slide"
    }
   },
   "source": [
    "## What was the most occuring obstical"
   ]
  },
  {
   "cell_type": "code",
   "execution_count": 2,
   "metadata": {
    "slideshow": {
     "slide_type": "fragment"
    }
   },
   "outputs": [
    {
     "name": "stdout",
     "output_type": "stream",
     "text": [
      "count             889\n",
      "unique            225\n",
      "top       Warped Wall\n",
      "freq               86\n",
      "Name: Obstacle Name, dtype: object\n",
      "---------------\n",
      "Cannonball Incline      0.001125\n",
      "Helix Hang              0.001125\n",
      "Triple Swing            0.001125\n",
      "Razor Beams             0.001125\n",
      "Epic Catch & Release    0.001125\n",
      "                          ...   \n",
      "Log Grip                0.023622\n",
      "Floating Steps          0.031496\n",
      "Quintuple Steps         0.035996\n",
      "Salmon Ladder           0.046119\n",
      "Warped Wall             0.096738\n",
      "Name: Obstacle Name, Length: 225, dtype: float64\n"
     ]
    }
   ],
   "source": [
    "print(df[\"Obstacle Name\"].describe())\n",
    "print(\"---------------\")\n",
    "print(df[\"Obstacle Name\"].value_counts(normalize=True, ascending=True))"
   ]
  },
  {
   "cell_type": "markdown",
   "metadata": {
    "slideshow": {
     "slide_type": "fragment"
    }
   },
   "source": [
    "### The Object That Appears The Most is The Warped Wall With a Frequency of 86 Occurances"
   ]
  },
  {
   "cell_type": "markdown",
   "metadata": {
    "slideshow": {
     "slide_type": "slide"
    }
   },
   "source": [
    "## How Many Seasons are Recorded in This Dataset\n",
    "## Which Season had the Most Obsticals"
   ]
  },
  {
   "cell_type": "code",
   "execution_count": 3,
   "metadata": {
    "slideshow": {
     "slide_type": "fragment"
    }
   },
   "outputs": [
    {
     "name": "stdout",
     "output_type": "stream",
     "text": [
      "1      40\n",
      "2      38\n",
      "3      38\n",
      "4     118\n",
      "5      88\n",
      "6     104\n",
      "7     120\n",
      "8     103\n",
      "9     120\n",
      "10    120\n",
      "Name: Season, dtype: int64\n"
     ]
    }
   ],
   "source": [
    "print(df['Season'].value_counts().sort_index())"
   ]
  },
  {
   "cell_type": "markdown",
   "metadata": {
    "slideshow": {
     "slide_type": "fragment"
    }
   },
   "source": [
    "### 10 Seasons were recorded and Seasons 7, 9, & 10 had the most obsticals of 120"
   ]
  },
  {
   "cell_type": "code",
   "execution_count": 4,
   "metadata": {},
   "outputs": [
    {
     "data": {
      "image/png": "[encoded data removed]",
      "text/plain": [
       "<Figure size 432x288 with 2 Axes>"
      ]
     },
     "metadata": {
      "needs_background": "light"
     },
     "output_type": "display_data"
    }
   ],
   "source": [
    "plt.show(sns.heatmap(pd.crosstab(df[\"Obstacle Name\"], df[\"Season\"], normalize='index'), cmap=\"Blues\"))"
   ]
  },
  {
   "cell_type": "code",
   "execution_count": null,
   "metadata": {},
   "outputs": [],
   "source": []
  },
  {
   "cell_type": "code",
   "execution_count": null,
   "metadata": {},
   "outputs": [],
   "source": []
  },
  {
   "cell_type": "code",
   "execution_count": null,
   "metadata": {},
   "outputs": [],
   "source": []
  },
  {
   "cell_type": "markdown",
   "metadata": {},
   "source": [
    "## What Location had the Most Obsticals"
   ]
  },
  {
   "cell_type": "code",
   "execution_count": 5,
   "metadata": {
    "slideshow": {
     "slide_type": "fragment"
    }
   },
   "outputs": [
    {
     "name": "stdout",
     "output_type": "stream",
     "text": [
      "Las Vegas               167\n",
      "Venice                   93\n",
      "Los Angeles              48\n",
      "Denver                   48\n",
      "Miami                    48\n",
      "Philadelphia             32\n",
      "Indianapolis             32\n",
      "Dallas                   32\n",
      "Kansas City              32\n",
      "Sasuke 23 (Japan)        25\n",
      "Sasuke 26 (Japan)        23\n",
      "Sasuke 27 (Japan)        23\n",
      "Northeast                17\n",
      "Southeast                17\n",
      "Atlanta                  16\n",
      "Minneapolis              16\n",
      "Orlando                  16\n",
      "San Pedro (Military)     16\n",
      "Cleveland                16\n",
      "Pittsburgh               16\n",
      "Baltimore                16\n",
      "Houston                  16\n",
      "St. Louis                16\n",
      "Oklahoma City            16\n",
      "San Antonio              16\n",
      "Daytona Beach            16\n",
      "Midwest                  15\n",
      "Northwest                15\n",
      "Mid-South                15\n",
      "Southwest                15\n",
      "Name: Location, dtype: int64\n"
     ]
    }
   ],
   "source": [
    "print(df['Location'].value_counts())"
   ]
  },
  {
   "cell_type": "markdown",
   "metadata": {},
   "source": [
    "### Las Vegas Clearly has the most sitting at 167 "
   ]
  },
  {
   "cell_type": "code",
   "execution_count": null,
   "metadata": {},
   "outputs": [],
   "source": []
  },
  {
   "cell_type": "code",
   "execution_count": 6,
   "metadata": {},
   "outputs": [],
   "source": [
    "# f,(ax_count, ax_stack) = plt.subplots(2,\n",
    "#             gridspec_kw={\"height_ratios\": (.5, .5)})\n",
    "\n",
    "# df.groupby(['Track'])['NPS'].value_counts().unstack().plot(\n",
    "#             kind='bar', stacked=True, ax=ax_stack)\n",
    "# sns.countplot(x='Track', hue=\"NPS\",\n",
    "#             data=df.sort_values('Track'), ax=ax_count)\n",
    "# plt.show()\n"
   ]
  },
  {
   "cell_type": "code",
   "execution_count": 7,
   "metadata": {
    "scrolled": false
   },
   "outputs": [
    {
     "data": {
      "image/png": "[encoded data removed]",
      "text/plain": [
       "<Figure size 432x288 with 2 Axes>"
      ]
     },
     "metadata": {
      "needs_background": "light"
     },
     "output_type": "display_data"
    }
   ],
   "source": [
    "plt.show(sns.heatmap(pd.crosstab(df[\"Location\"], df[\"Obstacle Name\"], normalize='index'), cmap=\"Blues\"))"
   ]
  },
  {
   "cell_type": "code",
   "execution_count": null,
   "metadata": {},
   "outputs": [],
   "source": []
  },
  {
   "cell_type": "code",
   "execution_count": null,
   "metadata": {},
   "outputs": [],
   "source": []
  },
  {
   "cell_type": "code",
   "execution_count": null,
   "metadata": {},
   "outputs": [],
   "source": []
  },
  {
   "cell_type": "code",
   "execution_count": null,
   "metadata": {},
   "outputs": [],
   "source": []
  },
  {
   "cell_type": "code",
   "execution_count": null,
   "metadata": {},
   "outputs": [],
   "source": []
  },
  {
   "cell_type": "markdown",
   "metadata": {},
   "source": [
    "![rubric](rubric.png)"
   ]
  }
 ],
 "metadata": {
  "celltoolbar": "Slideshow",
  "kernelspec": {
   "display_name": "Python 3",
   "language": "python",
   "name": "python3"
  },
  "language_info": {
   "codemirror_mode": {
    "name": "ipython",
    "version": 3
   },
   "file_extension": ".py",
   "mimetype": "text/x-python",
   "name": "python",
   "nbconvert_exporter": "python",
   "pygments_lexer": "ipython3",
   "version": "3.7.6"
  }
 },
 "nbformat": 4,
 "nbformat_minor": 2
}
