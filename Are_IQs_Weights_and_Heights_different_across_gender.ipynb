{
 "cells": [
  {
   "cell_type": "markdown",
   "metadata": {},
   "source": [
    "## From the given Brain_Size dataset:\n",
    "\n",
    "- Compare VIQ for female and male "
   ]
  },
  {
   "cell_type": "code",
   "execution_count": 1,
   "metadata": {},
   "outputs": [
    {
     "name": "stdout",
     "output_type": "stream",
     "text": [
      "-0.7726161723275011 0.44452876778583217\n"
     ]
    }
   ],
   "source": [
    "import pandas\n",
    "from pandas.plotting import scatter_matrix\n",
    "import matplotlib.pyplot as plt\n",
    "from scipy import stats\n",
    "\n",
    "data = pandas.read_csv('Datasets/brain_size.csv', sep=';', na_values=\".\")\n",
    "# data\n",
    "\n",
    "male_viq = data[data[\"Gender\"] == \"Male\"][\"VIQ\"]\n",
    "female_viq = data[data[\"Gender\"] == \"Female\"][\"VIQ\"]\n",
    "\n",
    "# For Unpaired two Samples t-test \n",
    "stat, p = stats.ttest_ind(female_viq, male_viq)\n",
    "print(stat, p)"
   ]
  },
  {
   "cell_type": "markdown",
   "metadata": {},
   "source": [
    "## Steps:\n",
    "\n",
    "1- Obtain the mean VIQ for the male and female samples\n",
    "\n",
    "2- Can we accept that population average (mean) of VIQ are the same for male and female?\n",
    " \n",
    "     Hint: Calculate the T-test for the means of two independent samples\n",
    "\n",
    "     If the p-value is smaller than the threshold (significant level), e.g. 1%, 5% or 10%, then we reject the null hypothesis of equal averages \n",
    "     (accept different population average)"
   ]
  },
  {
   "cell_type": "code",
   "execution_count": 2,
   "metadata": {},
   "outputs": [
    {
     "name": "stdout",
     "output_type": "stream",
     "text": [
      "115.25 109.45\n"
     ]
    }
   ],
   "source": [
    "male_viq_mean = sum(data[data[\"Gender\"] == \"Male\"][\"VIQ\"]) / len(data[data[\"Gender\"] == \"Male\"][\"VIQ\"])\n",
    "female_viq_mean = sum(data[data[\"Gender\"] == \"Female\"][\"VIQ\"]) / len(data[data[\"Gender\"] == \"Female\"][\"VIQ\"])\n",
    "print(male_viq_mean, female_viq_mean)"
   ]
  },
  {
   "cell_type": "markdown",
   "metadata": {},
   "source": [
    "## Extent the above analysis of 'FSIQ', 'VIQ', 'PIQ', 'Weight', 'Height' for male and female\n",
    "\n",
    "- Performance IQ (PIQ)\n",
    "- Verbal IQ (VIQ)\n",
    "- Full Scale Intelligence Quotient (FSIQ)"
   ]
  },
  {
   "cell_type": "code",
   "execution_count": null,
   "metadata": {},
   "outputs": [],
   "source": []
  },
  {
   "cell_type": "code",
   "execution_count": null,
   "metadata": {},
   "outputs": [],
   "source": []
  },
  {
   "cell_type": "code",
   "execution_count": null,
   "metadata": {},
   "outputs": [],
   "source": []
  },
  {
   "cell_type": "code",
   "execution_count": null,
   "metadata": {},
   "outputs": [],
   "source": []
  },
  {
   "cell_type": "code",
   "execution_count": 26,
   "metadata": {},
   "outputs": [
    {
     "name": "stdout",
     "output_type": "stream",
     "text": [
      "FSIQ 115.0 111.9\n",
      "Stat: -0.40  P: 0.69\n",
      "P(female & male) have the same population mean (distribution) for FSIQ\n",
      "\n",
      "VIQ 115.25 109.45\n",
      "Stat: -0.77  P: 0.44\n",
      "P(female & male) have the same population mean (distribution) for VIQ\n",
      "\n",
      "PIQ 111.6 110.45\n",
      "Stat: -0.16  P: 0.87\n",
      "P(female & male) have the same population mean (distribution) for PIQ\n",
      "\n",
      "Weight nan 137.2\n",
      "Stat: nan  P: nan\n",
      "P(female & male) have different population mean (distribution) for Weight\n",
      "\n",
      "Height nan 65.765\n",
      "Stat: nan  P: nan\n",
      "P(female & male) have different population mean (distribution) for Height\n",
      "\n"
     ]
    }
   ],
   "source": [
    "for item in data.columns[2:7]:\n",
    "    male_ls = data[data[\"Gender\"] == \"Male\"][item]\n",
    "    female_ls = data[data[\"Gender\"] == \"Female\"][item]\n",
    "    \n",
    "    \n",
    "    male_mean = sum(male_ls)/ len(data[data[\"Gender\"] == \"Male\"][item])\n",
    "    female_mean = sum(female_ls) / len(data[data[\"Gender\"] == \"Female\"][item])\n",
    "    print(item, male_mean, female_mean)\n",
    "    \n",
    "    # For Unpaired two Samples t-test \n",
    "    stat, p = stats.ttest_ind(female_ls, male_ls)\n",
    "    print( \"Stat: {:.2f}  P: {:.2f}\".format(stat, p))\n",
    "    \n",
    "    if p > 0.05:\n",
    "        print('P(female & male) have the same population mean (distribution) for {}\\n'.format(item))\n",
    "    else:\n",
    "        print('P(female & male) have different population mean (distribution) for {}\\n'.format(item))"
   ]
  },
  {
   "cell_type": "code",
   "execution_count": null,
   "metadata": {},
   "outputs": [],
   "source": []
  },
  {
   "cell_type": "code",
   "execution_count": null,
   "metadata": {},
   "outputs": [],
   "source": []
  },
  {
   "cell_type": "code",
   "execution_count": null,
   "metadata": {},
   "outputs": [],
   "source": []
  }
 ],
 "metadata": {
  "kernelspec": {
   "display_name": "Python 3",
   "language": "python",
   "name": "python3"
  },
  "language_info": {
   "codemirror_mode": {
    "name": "ipython",
    "version": 3
   },
   "file_extension": ".py",
   "mimetype": "text/x-python",
   "name": "python",
   "nbconvert_exporter": "python",
   "pygments_lexer": "ipython3",
   "version": "3.7.6"
  }
 },
 "nbformat": 4,
 "nbformat_minor": 2
}
