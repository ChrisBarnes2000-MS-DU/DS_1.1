{
 "cells": [
  {
   "cell_type": "markdown",
   "metadata": {},
   "source": [
    "# Midterm Project - NPS Data Analysis\n",
    "\n",
    "\n",
    "\n",
    "## Description of Problem\n",
    "Make School’s Summer Academy typically lasts for 8 weeks, although this can vary by location.\n",
    "Management wants to make sure that students continue to be satisfied with their experience as the program scales. \n",
    "Every week, students are given a survey asking their satisfaction with the program in the form of a Net Promoter Score (NPS) question, which is a tool commonly used to measure customer loyalty and promotion. \n",
    "\n",
    "You have been given data from Summer Academy in 2016 (optional) and 2017 (mandatory). Download the data [here](https://drive.google.com/file/d/1IMb2HWKoxkayxWe9j_5x2DkJZriWnNDN/view).\n",
    "\n",
    "#### You’ve seen NPS before if you’ve been asked a question like:\n",
    "    “On a scale of 1 to 10, how likely are you to recommend [X] to a friend or colleague?”\n",
    "\n",
    "- Clean and investigate Make School NPS data to find interesting and actionable trends that help inform decision-makers.\n",
    "\n",
    "- You should create a data dictionary that describes what each column’s possible values mean.\n",
    "\n",
    "- Create a presentation in a Jupyter Notebook using data visualizations and other techniques that allow non-technical team members to understand your findings.\n",
    "\n",
    "\n",
    "\n",
    "### Background on NPS\n",
    "\n",
    "#### NPS segments all responses between 1 and 10 into three categories based on their sentiment:\n",
    "- Promoter (9 – 10)\n",
    "- Passive (7 – 8)\n",
    "- Detractor (1 – 6)\n",
    "\n",
    "#### To calculate NPS, companies follow these steps:\n",
    "1. Segment all responses into Promoter, Passive, and Detractor categories.\n",
    "2. Calculate the percentage of responses in each category out of the total number of responses to the survey.\n",
    "3. Subtract the Detractors percentage from the Promoters percentage. This is the NPS.\n",
    "\n",
    "In other words, NPS can be calculated with this equation:\n",
    "#### NPS = ( (Promoters - Detractors) / (Promoters + Passives + Detractors) ) * 100\n",
    "\n",
    "NPS can range from –100 (if everyone is a detractor) to +100 (if everyone is a promoter).\n",
    "\n",
    "For more detailed information on NPS, [read this article](https://blog.capterra.com/what-is-nps-net-promoter-score-explained/).\n"
   ]
  },
  {
   "cell_type": "markdown",
   "metadata": {},
   "source": [
    "## All Are Favorite Friends (Imports)"
   ]
  },
  {
   "cell_type": "code",
   "execution_count": 1,
   "metadata": {},
   "outputs": [
    {
     "data": {
      "text/plain": [
       "Index(['Location', 'Track', 'Week', 'Rating (Num)', 'Schedule Pacing'], dtype='object')"
      ]
     },
     "execution_count": 1,
     "metadata": {},
     "output_type": "execute_result"
    }
   ],
   "source": [
    "# Pandas is a library for basic data analysis\n",
    "import pandas as pd\n",
    "\n",
    "# NumPy is a library for advanced mathematical computation\n",
    "import numpy as np\n",
    "\n",
    "# MatPlotLib is a library for basic data visualization\n",
    "import matplotlib.pyplot as plt\n",
    "\n",
    "# SeaBorn is a library for advanced data visualization\n",
    "import seaborn as sns\n",
    "\n",
    "# Dataset from above\n",
    "df = pd.read_csv('Datasets/Student Feedback Surveys-Superview.csv').set_index('ID')\n",
    "df.columns"
   ]
  },
  {
   "cell_type": "markdown",
   "metadata": {},
   "source": [
    "### Questions to Consider Answering\n",
    "In this scenario, you’ve just been given access to this data from your boss, with the instructions to:\n",
    "\n",
    "    “See if you can find anything in here that can help the business.”\n",
    "    – This is a very broad set of instructions.\n",
    "\n",
    "In order to complete this task you should consider finding answers to the following questions:\n",
    "\n",
    "\n",
    "- How many more promoters are there than detractors across our 2017 data?\n",
    "\n",
    "\n",
    "- Which track boasts the best promoter-to-detractor ratio?\n",
    "\n",
    "\n",
    "- Does the student experience get better the longer that they are enrolled at the Summer Academy?\n",
    "- Does student satisfaction vary by location?\n",
    "\n",
    "\n",
    "- What are things we could find here that could “help the business”?\n",
    "- What sorts of information does this dataset contain?\n",
    "- What kinds of questions might we be able to answer with this data?\n",
    "- What kinds of questions can’t we answer with this data?\n",
    "- What sorts of information might be actionable?"
   ]
  },
  {
   "cell_type": "code",
   "execution_count": 2,
   "metadata": {},
   "outputs": [],
   "source": [
    "# Winging We gotta clean the data so it's easier to work with later\n",
    "\n",
    "\"\"\"Create new column as NPS Score \n",
    "    Promoter (9 – 10)\n",
    "    Passive (7 – 8)\n",
    "    Detractor (1 – 6)\"\"\"\n",
    "\n",
    "df[\"Rating (Num)\"] = df[\"Rating (Num)\"].apply(\n",
    "    lambda x: int(x) if (x != \"#ERROR!\") else 5)\n",
    "\n",
    "df['NPS'] = df['Rating (Num)'].map(\n",
    "    {1: 'det', 2: 'det', 3: 'det',\n",
    "    4: 'det', 5: 'det', 6: 'det',\n",
    "    7: 'pas', 8: 'pas', 9: 'pro', 10: 'pro'} ).astype(str)"
   ]
  },
  {
   "cell_type": "code",
   "execution_count": 3,
   "metadata": {
    "scrolled": false
   },
   "outputs": [
    {
     "name": "stdout",
     "output_type": "stream",
     "text": [
      "pro    760\n",
      "pas    569\n",
      "det    122\n",
      "nan      2\n",
      "Name: NPS, dtype: int64\n"
     ]
    },
    {
     "data": {
      "text/html": [
       "<div>\n",
       "<style scoped>\n",
       "    .dataframe tbody tr th:only-of-type {\n",
       "        vertical-align: middle;\n",
       "    }\n",
       "\n",
       "    .dataframe tbody tr th {\n",
       "        vertical-align: top;\n",
       "    }\n",
       "\n",
       "    .dataframe thead th {\n",
       "        text-align: right;\n",
       "    }\n",
       "</style>\n",
       "<table border=\"1\" class=\"dataframe\">\n",
       "  <thead>\n",
       "    <tr style=\"text-align: right;\">\n",
       "      <th></th>\n",
       "      <th>Location</th>\n",
       "      <th>Track</th>\n",
       "      <th>Week</th>\n",
       "      <th>Rating (Num)</th>\n",
       "      <th>Schedule Pacing</th>\n",
       "      <th>NPS</th>\n",
       "    </tr>\n",
       "    <tr>\n",
       "      <th>ID</th>\n",
       "      <th></th>\n",
       "      <th></th>\n",
       "      <th></th>\n",
       "      <th></th>\n",
       "      <th></th>\n",
       "      <th></th>\n",
       "    </tr>\n",
       "  </thead>\n",
       "  <tbody>\n",
       "    <tr>\n",
       "      <th>134</th>\n",
       "      <td>San Francisco</td>\n",
       "      <td>Apps, Explorer</td>\n",
       "      <td>Week 1</td>\n",
       "      <td>3</td>\n",
       "      <td>Just right</td>\n",
       "      <td>det</td>\n",
       "    </tr>\n",
       "    <tr>\n",
       "      <th>36</th>\n",
       "      <td>Los Angeles</td>\n",
       "      <td>Apps</td>\n",
       "      <td>Week 1</td>\n",
       "      <td>4</td>\n",
       "      <td>A little too fast</td>\n",
       "      <td>det</td>\n",
       "    </tr>\n",
       "    <tr>\n",
       "      <th>117</th>\n",
       "      <td>San Francisco</td>\n",
       "      <td>Games</td>\n",
       "      <td>Week 1</td>\n",
       "      <td>4</td>\n",
       "      <td>Way too slow</td>\n",
       "      <td>det</td>\n",
       "    </tr>\n",
       "    <tr>\n",
       "      <th>253</th>\n",
       "      <td>NaN</td>\n",
       "      <td>NaN</td>\n",
       "      <td>Week 2</td>\n",
       "      <td>4</td>\n",
       "      <td>A little too fast</td>\n",
       "      <td>det</td>\n",
       "    </tr>\n",
       "    <tr>\n",
       "      <th>350</th>\n",
       "      <td>New York City</td>\n",
       "      <td>Apps, Explorer</td>\n",
       "      <td>Week 1</td>\n",
       "      <td>4</td>\n",
       "      <td>Just right</td>\n",
       "      <td>det</td>\n",
       "    </tr>\n",
       "    <tr>\n",
       "      <th>...</th>\n",
       "      <td>...</td>\n",
       "      <td>...</td>\n",
       "      <td>...</td>\n",
       "      <td>...</td>\n",
       "      <td>...</td>\n",
       "      <td>...</td>\n",
       "    </tr>\n",
       "    <tr>\n",
       "      <th>1495</th>\n",
       "      <td>New York City</td>\n",
       "      <td>Apps, Explorer</td>\n",
       "      <td>Week 7</td>\n",
       "      <td>10</td>\n",
       "      <td>Just right</td>\n",
       "      <td>pro</td>\n",
       "    </tr>\n",
       "    <tr>\n",
       "      <th>1496</th>\n",
       "      <td>New York City</td>\n",
       "      <td>Apps, Explorer</td>\n",
       "      <td>Week 7</td>\n",
       "      <td>8</td>\n",
       "      <td>Just right</td>\n",
       "      <td>pas</td>\n",
       "    </tr>\n",
       "    <tr>\n",
       "      <th>1497</th>\n",
       "      <td>New York City</td>\n",
       "      <td>Apps</td>\n",
       "      <td>Week 7</td>\n",
       "      <td>10</td>\n",
       "      <td>Just right</td>\n",
       "      <td>pro</td>\n",
       "    </tr>\n",
       "    <tr>\n",
       "      <th>1498</th>\n",
       "      <td>New York City</td>\n",
       "      <td>Apps, Explorer</td>\n",
       "      <td>Week 7</td>\n",
       "      <td>1</td>\n",
       "      <td>A little too slow</td>\n",
       "      <td>det</td>\n",
       "    </tr>\n",
       "    <tr>\n",
       "      <th>1499</th>\n",
       "      <td>New York City</td>\n",
       "      <td>Apps</td>\n",
       "      <td>Week 5</td>\n",
       "      <td>8</td>\n",
       "      <td>Just right</td>\n",
       "      <td>pas</td>\n",
       "    </tr>\n",
       "  </tbody>\n",
       "</table>\n",
       "<p>1453 rows × 6 columns</p>\n",
       "</div>"
      ],
      "text/plain": [
       "           Location           Track    Week  Rating (Num)    Schedule Pacing  \\\n",
       "ID                                                                             \n",
       "134   San Francisco  Apps, Explorer  Week 1             3         Just right   \n",
       "36      Los Angeles            Apps  Week 1             4  A little too fast   \n",
       "117   San Francisco           Games  Week 1             4       Way too slow   \n",
       "253             NaN             NaN  Week 2             4  A little too fast   \n",
       "350   New York City  Apps, Explorer  Week 1             4         Just right   \n",
       "...             ...             ...     ...           ...                ...   \n",
       "1495  New York City  Apps, Explorer  Week 7            10         Just right   \n",
       "1496  New York City  Apps, Explorer  Week 7             8         Just right   \n",
       "1497  New York City            Apps  Week 7            10         Just right   \n",
       "1498  New York City  Apps, Explorer  Week 7             1  A little too slow   \n",
       "1499  New York City            Apps  Week 5             8         Just right   \n",
       "\n",
       "      NPS  \n",
       "ID         \n",
       "134   det  \n",
       "36    det  \n",
       "117   det  \n",
       "253   det  \n",
       "350   det  \n",
       "...   ...  \n",
       "1495  pro  \n",
       "1496  pas  \n",
       "1497  pro  \n",
       "1498  det  \n",
       "1499  pas  \n",
       "\n",
       "[1453 rows x 6 columns]"
      ]
     },
     "execution_count": 3,
     "metadata": {},
     "output_type": "execute_result"
    }
   ],
   "source": [
    "print(df['NPS'].value_counts())\n",
    "df"
   ]
  },
  {
   "cell_type": "code",
   "execution_count": null,
   "metadata": {},
   "outputs": [],
   "source": []
  },
  {
   "cell_type": "code",
   "execution_count": null,
   "metadata": {},
   "outputs": [],
   "source": []
  },
  {
   "cell_type": "code",
   "execution_count": null,
   "metadata": {},
   "outputs": [],
   "source": []
  },
  {
   "cell_type": "markdown",
   "metadata": {},
   "source": [
    "## 1. How many more promoters are there than detractors across our 2017 data?"
   ]
  },
  {
   "cell_type": "code",
   "execution_count": 4,
   "metadata": {},
   "outputs": [
    {
     "data": {
      "text/plain": [
       "<matplotlib.axes._subplots.AxesSubplot at 0x103c6e5d0>"
      ]
     },
     "execution_count": 4,
     "metadata": {},
     "output_type": "execute_result"
    },
    {
     "data": {
      "image/png": "[encoded data removed]",
      "text/plain": [
       "<Figure size 432x288 with 1 Axes>"
      ]
     },
     "metadata": {
      "needs_background": "light"
     },
     "output_type": "display_data"
    }
   ],
   "source": [
    "sns.countplot(x='NPS', palette='autumn', data=df)"
   ]
  },
  {
   "cell_type": "code",
   "execution_count": 5,
   "metadata": {},
   "outputs": [
    {
     "name": "stdout",
     "output_type": "stream",
     "text": [
      "Num promoters - Num detractors: 760 - 122 = 638 \n",
      "There are 638 more promoters than detractors\n",
      "Overall NPS Score: 43.9697\n"
     ]
    }
   ],
   "source": [
    "Promoters = len(df[df['NPS']=='pro'])\n",
    "Passives = len(df[df['NPS']=='pas'])\n",
    "Detractors = len(df[df['NPS']=='det'])\n",
    "\n",
    "HMM = Promoters - Detractors\n",
    "NPS = ( (Promoters - Detractors) / (Promoters + Passives + Detractors) ) * 100\n",
    "\n",
    "print('Num promoters - Num detractors:', Promoters, '-', Detractors, '=', HMM,\n",
    "      '\\nThere are', HMM, 'more promoters than detractors')\n",
    "print('Overall NPS Score: %.4f' %NPS)"
   ]
  },
  {
   "cell_type": "markdown",
   "metadata": {},
   "source": [
    "### Here we can see there are 638 more promoters than detractors,\n",
    "### Giving us and overall NPS Score of 43.97%"
   ]
  },
  {
   "cell_type": "code",
   "execution_count": null,
   "metadata": {},
   "outputs": [],
   "source": []
  },
  {
   "cell_type": "code",
   "execution_count": null,
   "metadata": {},
   "outputs": [],
   "source": []
  },
  {
   "cell_type": "code",
   "execution_count": null,
   "metadata": {},
   "outputs": [],
   "source": []
  },
  {
   "cell_type": "markdown",
   "metadata": {},
   "source": [
    "### 2. Which track boasts the best promoter-to-detractor ratio?"
   ]
  },
  {
   "cell_type": "code",
   "execution_count": 6,
   "metadata": {},
   "outputs": [],
   "source": [
    "# NPS SCORE FOR A TRACK\n",
    "def Calc_NPS_SCORE(Column, scores):\n",
    "    Promoters = dict(df[df[Column] == scores]['NPS'].value_counts())['pro']\n",
    "    Passives = dict(df[df[Column] == scores]['NPS'].value_counts())['pas']\n",
    "    if 'det' not in dict(df[df[Column] == scores]['NPS'].value_counts()):\n",
    "        Detractors = 0\n",
    "    else:\n",
    "        Detractors = dict(df[df[Column] == scores]['NPS'].value_counts())['det']\n",
    "    \n",
    "    HMM = Promoters - Detractors\n",
    "    NPS = ( (Promoters - Detractors) / (Promoters + Passives + Detractors) ) * 100\n",
    "    \n",
    "    print('NPS SCORE FOR [', scores, ']',\n",
    "          dict(df[df[Column] == scores]['NPS'].value_counts())) \n",
    "    print('Num promoters - Num detractors:',\n",
    "          Promoters, '-', Detractors, '=', HMM, 'more promoters than detractors')\n",
    "    print('Overall NPS Score: %.4f' %NPS)\n",
    "    print('------------')\n",
    "    \n",
    "    return NPS"
   ]
  },
  {
   "cell_type": "code",
   "execution_count": 7,
   "metadata": {},
   "outputs": [
    {
     "name": "stdout",
     "output_type": "stream",
     "text": [
      "NPS SCORE FOR [ Apps ] {'pro': 438, 'pas': 355, 'det': 77, 'nan': 1}\n",
      "Num promoters - Num detractors: 438 - 77 = 361 more promoters than detractors\n",
      "Overall NPS Score: 41.4943\n",
      "------------\n",
      "NPS SCORE FOR [ Apps, Explorer ] {'pas': 109, 'pro': 91, 'det': 24}\n",
      "Num promoters - Num detractors: 91 - 24 = 67 more promoters than detractors\n",
      "Overall NPS Score: 29.9107\n",
      "------------\n",
      "NPS SCORE FOR [ Games ] {'pro': 133, 'pas': 66, 'det': 9}\n",
      "Num promoters - Num detractors: 133 - 9 = 124 more promoters than detractors\n",
      "Overall NPS Score: 59.6154\n",
      "------------\n",
      "NPS SCORE FOR [ VR ] {'pro': 46, 'pas': 12, 'det': 2}\n",
      "Num promoters - Num detractors: 46 - 2 = 44 more promoters than detractors\n",
      "Overall NPS Score: 73.3333\n",
      "------------\n",
      "NPS SCORE FOR [ Games, Explorer ] {'pro': 31, 'pas': 12}\n",
      "Num promoters - Num detractors: 31 - 0 = 31 more promoters than detractors\n",
      "Overall NPS Score: 72.0930\n",
      "------------\n"
     ]
    }
   ],
   "source": [
    "track_nps = np.array([Calc_NPS_SCORE('Track', 'Apps'),\n",
    "                     Calc_NPS_SCORE('Track', 'Apps, Explorer'),\n",
    "                     Calc_NPS_SCORE('Track', 'Games'),\n",
    "                     Calc_NPS_SCORE('Track', 'VR'),\n",
    "                     Calc_NPS_SCORE('Track', 'Games, Explorer')])"
   ]
  },
  {
   "cell_type": "markdown",
   "metadata": {},
   "source": [
    "#### From above we can compare the NPS Score (Promoters vs Detractors ratio) of each track, \n",
    "Confirming that VR has a Higher NPS around ~73.33% compared to Apps with roughly ~41.49%"
   ]
  },
  {
   "cell_type": "code",
   "execution_count": 8,
   "metadata": {},
   "outputs": [
    {
     "data": {
      "text/plain": [
       "{'Apps': 871,\n",
       " 'Apps, Explorer': 224,\n",
       " 'Games': 208,\n",
       " 'VR': 60,\n",
       " 'Games, Explorer': 43}"
      ]
     },
     "execution_count": 8,
     "metadata": {},
     "output_type": "execute_result"
    }
   ],
   "source": [
    "track_data = np.array(df.Track)\n",
    "track_dict = dict(pd.Series(track_data).value_counts())\n",
    "track_dict"
   ]
  },
  {
   "cell_type": "code",
   "execution_count": 9,
   "metadata": {},
   "outputs": [
    {
     "data": {
      "text/plain": [
       "pro    760\n",
       "pas    569\n",
       "det    122\n",
       "nan      2\n",
       "Name: NPS, dtype: int64"
      ]
     },
     "execution_count": 9,
     "metadata": {},
     "output_type": "execute_result"
    }
   ],
   "source": [
    "sentiment_dict = df['NPS'].value_counts()\n",
    "sentiment_dict"
   ]
  },
  {
   "cell_type": "code",
   "execution_count": 10,
   "metadata": {},
   "outputs": [
    {
     "data": {
      "image/png": "[encoded data removed]",
      "text/plain": [
       "<Figure size 432x432 with 2 Axes>"
      ]
     },
     "metadata": {},
     "output_type": "display_data"
    }
   ],
   "source": [
    "# CREDIT GOES TO: GENJI TAPIA & https://python-graph-gallery.com/\n",
    "\n",
    "# Set data variables\n",
    "dfv = pd.DataFrame({\n",
    "'group': ['NPS of tracks'],\n",
    "'Apps': track_nps[0],\n",
    "'Apps, Explorer': track_nps[1],\n",
    "'Games': track_nps[2],\n",
    "'VR': track_nps[3],\n",
    "'Games, Explorer': track_nps[4]\n",
    "})\n",
    "categories=list(dfv)[1:]\n",
    "\n",
    "\n",
    "# We are going to plot the first line of the data frame.\n",
    "# But we need to repeat the first value to close the circular graph:\n",
    "values=dfv.loc[0].drop('group').values.flatten().tolist()\n",
    "values += values[:1]\n",
    "values\n",
    "\n",
    "#calculate the middle point of each of the pie parts \n",
    "total = sum(track_dict.values())\n",
    "angles = []\n",
    "offset = 0\n",
    "for value in track_dict.values():\n",
    "    angle = (value / total)*6.2831853071796\n",
    "    offset += angle/2  #get the middle\n",
    "    angles.append(offset)\n",
    "    offset += angle/2  #return the remainder to the offset\n",
    "angles += angles[:1]  #close the loop\n",
    "\n",
    "#----------------------------SPIDER GRAPH BASE\n",
    "# Initialise the spider plot at a point inside the pie\n",
    "fig, ax = plt.subplots(nrows=1, ncols=1, figsize=(6, 6), subplot_kw=dict(polar=True, zorder=1))\n",
    "fig.subplots_adjust(left=0.1, right=0.9, top=0.9, bottom=0.1)\n",
    "\n",
    "#----------------------------SPIDER GRAPH DRAWS\n",
    "# Draw one axe per variable + add labels labels yet\n",
    "plt.xticks(angles[:-1], color='black', size=0)\n",
    "# Draw ylabels\n",
    "ax.set_rlabel_position(0)\n",
    "plt.yticks([20,40,60,80], [\"20\", \"40\", \"60\", \"80\"], color=\"grey\", size=14)\n",
    "plt.ylim(0,100)\n",
    "# Plot data\n",
    "ax.plot(angles, values, linewidth=1.5, linestyle='solid')\n",
    "# Fill area\n",
    "ax.fill(angles, values, 'p', alpha=0.1)\n",
    "\n",
    "#----------------------------PIE CHART VARS\n",
    "sizes = track_dict.values()\n",
    "labels = track_dict.keys()\n",
    "colors = ['yellowgreen', 'gold', 'lightskyblue', 'lightcoral', 'purple']\n",
    "explode = (0, 0, 0, 0, 0)\n",
    "\n",
    "#----------------------------PIE CHART\n",
    "ax2 = fig.add_subplot(111, label=\"pie axes\", zorder=0)\n",
    "wedges, d = ax2.pie(sizes, explode=explode, labels=labels, colors=colors, shadow=True, wedgeprops = {'linewidth': 5},\n",
    "            radius=1.35, startangle=0, labeldistance=1.05)\n",
    "\n",
    "#----------------------------ANNOTATE\n",
    "recipe = np.round_(track_nps,1)\n",
    "bbox_props = dict(boxstyle=\"square,pad=0.5\", fc=\"w\", ec=\"k\", lw=0.32)\n",
    "kw2 = dict(arrowprops=dict(arrowstyle=\"-\"), bbox=bbox_props, zorder=0, va=\"center\")\n",
    "\n",
    "for i, p in enumerate(wedges):  #using pie wedges to math our points\n",
    "    ang = (p.theta2 - p.theta1)/2.5 + p.theta1  #change /2 to shift left/right\n",
    "    y = np.sin(np.deg2rad(ang-5))  #offcenter the angle of lines futher\n",
    "    x = np.cos(np.deg2rad(ang))\n",
    "    horizontalalignment = {1: \"right\", -1: \"left\"}[int(np.sign(x))]\n",
    "    connectionstyle = \"angle,angleA=0,angleB={}\".format(ang)\n",
    "    kw2[\"arrowprops\"].update({\"connectionstyle\": connectionstyle})\n",
    "    ax2.annotate(recipe[i], xy=(x, y), xytext=(1.65*np.sign(x), 1.4*y), horizontalalignment=horizontalalignment, **kw2)\n",
    "\n",
    "#-----------------------------DRAW\n",
    "ax.set_title(\"Population per track: NPS values\\n\\n\")\n",
    "ax2.set(aspect=\"equal\")\n",
    "\n",
    "plt.show()\n",
    "\n",
    "# #-----------------------------Print NPS\n",
    "# print (f'Average NPS: {track_nps.mean()}  [NOT A REAL NUMBER] ')\n",
    "# print (f'  Total NPS: {Calc_NPS_SCORE( sentiment_dict,  )}')"
   ]
  },
  {
   "cell_type": "code",
   "execution_count": 11,
   "metadata": {},
   "outputs": [
    {
     "data": {
      "image/png": "[encoded data removed]",
      "text/plain": [
       "<Figure size 432x288 with 2 Axes>"
      ]
     },
     "metadata": {
      "needs_background": "light"
     },
     "output_type": "display_data"
    }
   ],
   "source": [
    "f,(ax_count, ax_stack) = plt.subplots(2,\n",
    "            gridspec_kw={\"height_ratios\": (.5, .5)})\n",
    "\n",
    "df.groupby(['Track'])['NPS'].value_counts().unstack().plot(\n",
    "            kind='bar', stacked=True, ax=ax_stack)\n",
    "sns.countplot(x='Track', hue=\"NPS\",\n",
    "            data=df.sort_values('Track'), ax=ax_count)\n",
    "plt.show()\n",
    "\n",
    "# Here we can visually see the separation of each NPS segment per track"
   ]
  },
  {
   "cell_type": "code",
   "execution_count": 12,
   "metadata": {},
   "outputs": [
    {
     "data": {
      "text/html": [
       "<div>\n",
       "<style scoped>\n",
       "    .dataframe tbody tr th:only-of-type {\n",
       "        vertical-align: middle;\n",
       "    }\n",
       "\n",
       "    .dataframe tbody tr th {\n",
       "        vertical-align: top;\n",
       "    }\n",
       "\n",
       "    .dataframe thead th {\n",
       "        text-align: right;\n",
       "    }\n",
       "</style>\n",
       "<table border=\"1\" class=\"dataframe\">\n",
       "  <thead>\n",
       "    <tr style=\"text-align: right;\">\n",
       "      <th>NPS</th>\n",
       "      <th>det</th>\n",
       "      <th>nan</th>\n",
       "      <th>pas</th>\n",
       "      <th>pro</th>\n",
       "    </tr>\n",
       "    <tr>\n",
       "      <th>Track</th>\n",
       "      <th></th>\n",
       "      <th></th>\n",
       "      <th></th>\n",
       "      <th></th>\n",
       "    </tr>\n",
       "  </thead>\n",
       "  <tbody>\n",
       "    <tr>\n",
       "      <th>Apps</th>\n",
       "      <td>0.088404</td>\n",
       "      <td>0.001148</td>\n",
       "      <td>0.407577</td>\n",
       "      <td>0.502870</td>\n",
       "    </tr>\n",
       "    <tr>\n",
       "      <th>Apps, Explorer</th>\n",
       "      <td>0.107143</td>\n",
       "      <td>0.000000</td>\n",
       "      <td>0.486607</td>\n",
       "      <td>0.406250</td>\n",
       "    </tr>\n",
       "    <tr>\n",
       "      <th>Games</th>\n",
       "      <td>0.043269</td>\n",
       "      <td>0.000000</td>\n",
       "      <td>0.317308</td>\n",
       "      <td>0.639423</td>\n",
       "    </tr>\n",
       "    <tr>\n",
       "      <th>Games, Explorer</th>\n",
       "      <td>0.000000</td>\n",
       "      <td>0.000000</td>\n",
       "      <td>0.279070</td>\n",
       "      <td>0.720930</td>\n",
       "    </tr>\n",
       "    <tr>\n",
       "      <th>VR</th>\n",
       "      <td>0.033333</td>\n",
       "      <td>0.000000</td>\n",
       "      <td>0.200000</td>\n",
       "      <td>0.766667</td>\n",
       "    </tr>\n",
       "    <tr>\n",
       "      <th>All</th>\n",
       "      <td>0.079659</td>\n",
       "      <td>0.000711</td>\n",
       "      <td>0.394026</td>\n",
       "      <td>0.525605</td>\n",
       "    </tr>\n",
       "  </tbody>\n",
       "</table>\n",
       "</div>"
      ],
      "text/plain": [
       "NPS                   det       nan       pas       pro\n",
       "Track                                                  \n",
       "Apps             0.088404  0.001148  0.407577  0.502870\n",
       "Apps, Explorer   0.107143  0.000000  0.486607  0.406250\n",
       "Games            0.043269  0.000000  0.317308  0.639423\n",
       "Games, Explorer  0.000000  0.000000  0.279070  0.720930\n",
       "VR               0.033333  0.000000  0.200000  0.766667\n",
       "All              0.079659  0.000711  0.394026  0.525605"
      ]
     },
     "execution_count": 12,
     "metadata": {},
     "output_type": "execute_result"
    }
   ],
   "source": [
    "pd.crosstab(df['Track'], df['NPS'], normalize='index', margins=True)"
   ]
  },
  {
   "cell_type": "code",
   "execution_count": null,
   "metadata": {},
   "outputs": [],
   "source": []
  },
  {
   "cell_type": "code",
   "execution_count": null,
   "metadata": {},
   "outputs": [],
   "source": []
  },
  {
   "cell_type": "code",
   "execution_count": null,
   "metadata": {},
   "outputs": [],
   "source": []
  },
  {
   "cell_type": "code",
   "execution_count": null,
   "metadata": {},
   "outputs": [],
   "source": []
  },
  {
   "cell_type": "code",
   "execution_count": 13,
   "metadata": {},
   "outputs": [
    {
     "data": {
      "text/html": [
       "<div>\n",
       "<style scoped>\n",
       "    .dataframe tbody tr th:only-of-type {\n",
       "        vertical-align: middle;\n",
       "    }\n",
       "\n",
       "    .dataframe tbody tr th {\n",
       "        vertical-align: top;\n",
       "    }\n",
       "\n",
       "    .dataframe thead th {\n",
       "        text-align: right;\n",
       "    }\n",
       "</style>\n",
       "<table border=\"1\" class=\"dataframe\">\n",
       "  <thead>\n",
       "    <tr style=\"text-align: right;\">\n",
       "      <th>Track</th>\n",
       "      <th>Apps</th>\n",
       "      <th>Apps, Explorer</th>\n",
       "      <th>Games</th>\n",
       "      <th>Games, Explorer</th>\n",
       "      <th>VR</th>\n",
       "    </tr>\n",
       "    <tr>\n",
       "      <th>Schedule Pacing</th>\n",
       "      <th></th>\n",
       "      <th></th>\n",
       "      <th></th>\n",
       "      <th></th>\n",
       "      <th></th>\n",
       "    </tr>\n",
       "  </thead>\n",
       "  <tbody>\n",
       "    <tr>\n",
       "      <th>A little too fast</th>\n",
       "      <td>197</td>\n",
       "      <td>43</td>\n",
       "      <td>21</td>\n",
       "      <td>5</td>\n",
       "      <td>10</td>\n",
       "    </tr>\n",
       "    <tr>\n",
       "      <th>A little too slow</th>\n",
       "      <td>58</td>\n",
       "      <td>9</td>\n",
       "      <td>25</td>\n",
       "      <td>0</td>\n",
       "      <td>5</td>\n",
       "    </tr>\n",
       "    <tr>\n",
       "      <th>Just right</th>\n",
       "      <td>603</td>\n",
       "      <td>165</td>\n",
       "      <td>158</td>\n",
       "      <td>38</td>\n",
       "      <td>45</td>\n",
       "    </tr>\n",
       "    <tr>\n",
       "      <th>Way too fast</th>\n",
       "      <td>13</td>\n",
       "      <td>7</td>\n",
       "      <td>1</td>\n",
       "      <td>0</td>\n",
       "      <td>0</td>\n",
       "    </tr>\n",
       "    <tr>\n",
       "      <th>Way too slow</th>\n",
       "      <td>0</td>\n",
       "      <td>0</td>\n",
       "      <td>3</td>\n",
       "      <td>0</td>\n",
       "      <td>0</td>\n",
       "    </tr>\n",
       "  </tbody>\n",
       "</table>\n",
       "</div>"
      ],
      "text/plain": [
       "Track              Apps  Apps, Explorer  Games  Games, Explorer  VR\n",
       "Schedule Pacing                                                    \n",
       "A little too fast   197              43     21                5  10\n",
       "A little too slow    58               9     25                0   5\n",
       "Just right          603             165    158               38  45\n",
       "Way too fast         13               7      1                0   0\n",
       "Way too slow          0               0      3                0   0"
      ]
     },
     "execution_count": 13,
     "metadata": {},
     "output_type": "execute_result"
    }
   ],
   "source": [
    "pd.crosstab(df[\"Schedule Pacing\"], df[\"Track\"])"
   ]
  },
  {
   "cell_type": "code",
   "execution_count": null,
   "metadata": {},
   "outputs": [],
   "source": []
  },
  {
   "cell_type": "code",
   "execution_count": null,
   "metadata": {},
   "outputs": [],
   "source": []
  },
  {
   "cell_type": "code",
   "execution_count": 14,
   "metadata": {},
   "outputs": [
    {
     "data": {
      "image/png": "[encoded data removed]",
      "text/plain": [
       "<Figure size 432x288 with 2 Axes>"
      ]
     },
     "metadata": {
      "needs_background": "light"
     },
     "output_type": "display_data"
    }
   ],
   "source": [
    "plt.show(sns.heatmap(pd.crosstab(\n",
    "    df[\"Schedule Pacing\"], df[\"Track\"], normalize='columns'), cmap=\"Blues\"))"
   ]
  },
  {
   "cell_type": "code",
   "execution_count": null,
   "metadata": {},
   "outputs": [],
   "source": []
  },
  {
   "cell_type": "code",
   "execution_count": null,
   "metadata": {},
   "outputs": [],
   "source": []
  },
  {
   "cell_type": "code",
   "execution_count": null,
   "metadata": {},
   "outputs": [],
   "source": []
  },
  {
   "cell_type": "markdown",
   "metadata": {},
   "source": [
    "## 3. Does student satisfaction vary by location?\n",
    "## Simply put, Yes: Student satisfaction varies by location"
   ]
  },
  {
   "cell_type": "code",
   "execution_count": 15,
   "metadata": {},
   "outputs": [
    {
     "data": {
      "image/png": "[encoded data removed]",
      "text/plain": [
       "<Figure size 1206.88x288 with 1 Axes>"
      ]
     },
     "metadata": {
      "needs_background": "light"
     },
     "output_type": "display_data"
    }
   ],
   "source": [
    "# Assuming that NPS score stands for statisfaction If we compare 4 random locations for their \n",
    "sns.catplot(x=\"Location\", hue=\"NPS\",\n",
    "            data=df, kind=\"count\",\n",
    "            height=4, aspect=4);"
   ]
  },
  {
   "cell_type": "code",
   "execution_count": 16,
   "metadata": {},
   "outputs": [
    {
     "data": {
      "image/png": "[encoded data removed]",
      "text/plain": [
       "<Figure size 432x288 with 2 Axes>"
      ]
     },
     "metadata": {
      "needs_background": "light"
     },
     "output_type": "display_data"
    }
   ],
   "source": [
    "locations = pd.crosstab(df[\"Location\"], df[\"NPS\"], normalize='index')\n",
    "plt.show(sns.heatmap(locations, cmap=\"Blues\"))"
   ]
  },
  {
   "cell_type": "code",
   "execution_count": null,
   "metadata": {},
   "outputs": [],
   "source": []
  },
  {
   "cell_type": "code",
   "execution_count": null,
   "metadata": {},
   "outputs": [],
   "source": []
  },
  {
   "cell_type": "code",
   "execution_count": null,
   "metadata": {},
   "outputs": [],
   "source": []
  },
  {
   "cell_type": "markdown",
   "metadata": {
    "slideshow": {
     "slide_type": "slide"
    }
   },
   "source": [
    "### 4. Does the student experience get better the longer that they are enrolled at the Summer Academy?"
   ]
  },
  {
   "cell_type": "code",
   "execution_count": 17,
   "metadata": {
    "slideshow": {
     "slide_type": "skip"
    }
   },
   "outputs": [
    {
     "data": {
      "text/plain": [
       "Just right           1034\n",
       "A little too fast     289\n",
       "A little too slow     100\n",
       "Way too fast           23\n",
       "Way too slow            4\n",
       "Name: Schedule Pacing, dtype: int64"
      ]
     },
     "execution_count": 17,
     "metadata": {},
     "output_type": "execute_result"
    }
   ],
   "source": [
    "df[\"Schedule Pacing\"].value_counts()"
   ]
  },
  {
   "cell_type": "code",
   "execution_count": 18,
   "metadata": {},
   "outputs": [
    {
     "data": {
      "text/plain": [
       "<matplotlib.axes._subplots.AxesSubplot at 0x1229fae90>"
      ]
     },
     "execution_count": 18,
     "metadata": {},
     "output_type": "execute_result"
    },
    {
     "data": {
      "image/png": "[encoded data removed]",
      "text/plain": [
       "<Figure size 432x288 with 2 Axes>"
      ]
     },
     "metadata": {
      "needs_background": "light"
     },
     "output_type": "display_data"
    }
   ],
   "source": [
    "sns.heatmap(pd.crosstab(\n",
    "    df[\"Week\"], df[\"Schedule Pacing\"], normalize='columns'), cmap=\"Blues\")"
   ]
  },
  {
   "cell_type": "markdown",
   "metadata": {},
   "source": [
    "#### In the beginning the overal pacing was either a little slow or was way to slow\n",
    "#### Then latter in the course it comes closer to being just right of a pacing"
   ]
  },
  {
   "cell_type": "code",
   "execution_count": 19,
   "metadata": {},
   "outputs": [
    {
     "data": {
      "text/html": [
       "<div>\n",
       "<style scoped>\n",
       "    .dataframe tbody tr th:only-of-type {\n",
       "        vertical-align: middle;\n",
       "    }\n",
       "\n",
       "    .dataframe tbody tr th {\n",
       "        vertical-align: top;\n",
       "    }\n",
       "\n",
       "    .dataframe thead th {\n",
       "        text-align: right;\n",
       "    }\n",
       "</style>\n",
       "<table border=\"1\" class=\"dataframe\">\n",
       "  <thead>\n",
       "    <tr style=\"text-align: right;\">\n",
       "      <th>Rating (Num)</th>\n",
       "      <th>0</th>\n",
       "      <th>1</th>\n",
       "      <th>2</th>\n",
       "      <th>3</th>\n",
       "      <th>4</th>\n",
       "      <th>5</th>\n",
       "      <th>6</th>\n",
       "      <th>7</th>\n",
       "      <th>8</th>\n",
       "      <th>9</th>\n",
       "      <th>10</th>\n",
       "    </tr>\n",
       "    <tr>\n",
       "      <th>Week</th>\n",
       "      <th></th>\n",
       "      <th></th>\n",
       "      <th></th>\n",
       "      <th></th>\n",
       "      <th></th>\n",
       "      <th></th>\n",
       "      <th></th>\n",
       "      <th></th>\n",
       "      <th></th>\n",
       "      <th></th>\n",
       "      <th></th>\n",
       "    </tr>\n",
       "  </thead>\n",
       "  <tbody>\n",
       "    <tr>\n",
       "      <th>Week 1</th>\n",
       "      <td>0</td>\n",
       "      <td>0</td>\n",
       "      <td>0</td>\n",
       "      <td>1</td>\n",
       "      <td>6</td>\n",
       "      <td>9</td>\n",
       "      <td>12</td>\n",
       "      <td>40</td>\n",
       "      <td>91</td>\n",
       "      <td>61</td>\n",
       "      <td>68</td>\n",
       "    </tr>\n",
       "    <tr>\n",
       "      <th>Week 2</th>\n",
       "      <td>1</td>\n",
       "      <td>0</td>\n",
       "      <td>0</td>\n",
       "      <td>2</td>\n",
       "      <td>2</td>\n",
       "      <td>7</td>\n",
       "      <td>12</td>\n",
       "      <td>34</td>\n",
       "      <td>82</td>\n",
       "      <td>76</td>\n",
       "      <td>61</td>\n",
       "    </tr>\n",
       "    <tr>\n",
       "      <th>Week 3</th>\n",
       "      <td>0</td>\n",
       "      <td>1</td>\n",
       "      <td>0</td>\n",
       "      <td>1</td>\n",
       "      <td>0</td>\n",
       "      <td>7</td>\n",
       "      <td>13</td>\n",
       "      <td>22</td>\n",
       "      <td>64</td>\n",
       "      <td>69</td>\n",
       "      <td>66</td>\n",
       "    </tr>\n",
       "    <tr>\n",
       "      <th>Week 4</th>\n",
       "      <td>0</td>\n",
       "      <td>0</td>\n",
       "      <td>0</td>\n",
       "      <td>2</td>\n",
       "      <td>3</td>\n",
       "      <td>6</td>\n",
       "      <td>8</td>\n",
       "      <td>25</td>\n",
       "      <td>49</td>\n",
       "      <td>55</td>\n",
       "      <td>45</td>\n",
       "    </tr>\n",
       "    <tr>\n",
       "      <th>Week 5</th>\n",
       "      <td>1</td>\n",
       "      <td>0</td>\n",
       "      <td>1</td>\n",
       "      <td>0</td>\n",
       "      <td>2</td>\n",
       "      <td>4</td>\n",
       "      <td>7</td>\n",
       "      <td>22</td>\n",
       "      <td>45</td>\n",
       "      <td>45</td>\n",
       "      <td>52</td>\n",
       "    </tr>\n",
       "    <tr>\n",
       "      <th>Week 6</th>\n",
       "      <td>0</td>\n",
       "      <td>0</td>\n",
       "      <td>1</td>\n",
       "      <td>1</td>\n",
       "      <td>0</td>\n",
       "      <td>1</td>\n",
       "      <td>5</td>\n",
       "      <td>18</td>\n",
       "      <td>41</td>\n",
       "      <td>34</td>\n",
       "      <td>43</td>\n",
       "    </tr>\n",
       "    <tr>\n",
       "      <th>Week 7</th>\n",
       "      <td>0</td>\n",
       "      <td>1</td>\n",
       "      <td>0</td>\n",
       "      <td>1</td>\n",
       "      <td>0</td>\n",
       "      <td>4</td>\n",
       "      <td>2</td>\n",
       "      <td>15</td>\n",
       "      <td>19</td>\n",
       "      <td>41</td>\n",
       "      <td>37</td>\n",
       "    </tr>\n",
       "    <tr>\n",
       "      <th>Week 8</th>\n",
       "      <td>0</td>\n",
       "      <td>0</td>\n",
       "      <td>0</td>\n",
       "      <td>0</td>\n",
       "      <td>0</td>\n",
       "      <td>0</td>\n",
       "      <td>0</td>\n",
       "      <td>1</td>\n",
       "      <td>1</td>\n",
       "      <td>3</td>\n",
       "      <td>4</td>\n",
       "    </tr>\n",
       "  </tbody>\n",
       "</table>\n",
       "</div>"
      ],
      "text/plain": [
       "Rating (Num)  0   1   2   3   4   5   6   7   8   9   10\n",
       "Week                                                    \n",
       "Week 1         0   0   0   1   6   9  12  40  91  61  68\n",
       "Week 2         1   0   0   2   2   7  12  34  82  76  61\n",
       "Week 3         0   1   0   1   0   7  13  22  64  69  66\n",
       "Week 4         0   0   0   2   3   6   8  25  49  55  45\n",
       "Week 5         1   0   1   0   2   4   7  22  45  45  52\n",
       "Week 6         0   0   1   1   0   1   5  18  41  34  43\n",
       "Week 7         0   1   0   1   0   4   2  15  19  41  37\n",
       "Week 8         0   0   0   0   0   0   0   1   1   3   4"
      ]
     },
     "execution_count": 19,
     "metadata": {},
     "output_type": "execute_result"
    }
   ],
   "source": [
    "pd.crosstab(df[\"Week\"], df[\"Rating (Num)\"])"
   ]
  },
  {
   "cell_type": "code",
   "execution_count": 20,
   "metadata": {
    "scrolled": true
   },
   "outputs": [
    {
     "data": {
      "text/plain": [
       "<matplotlib.axes._subplots.AxesSubplot at 0x122b307d0>"
      ]
     },
     "execution_count": 20,
     "metadata": {},
     "output_type": "execute_result"
    },
    {
     "data": {
      "image/png": "[encoded data removed]",
      "text/plain": [
       "<Figure size 432x288 with 2 Axes>"
      ]
     },
     "metadata": {
      "needs_background": "light"
     },
     "output_type": "display_data"
    }
   ],
   "source": [
    "sns.heatmap(pd.crosstab(df[\"Week\"], df[\"Rating (Num)\"]))"
   ]
  },
  {
   "cell_type": "code",
   "execution_count": null,
   "metadata": {},
   "outputs": [],
   "source": []
  },
  {
   "cell_type": "code",
   "execution_count": null,
   "metadata": {},
   "outputs": [],
   "source": []
  },
  {
   "cell_type": "code",
   "execution_count": null,
   "metadata": {},
   "outputs": [],
   "source": []
  },
  {
   "cell_type": "markdown",
   "metadata": {},
   "source": [
    "## Question Summary\n",
    "\n",
    "### 1: How many more promoters are there than detractors across our 2017 data?\n",
    "In Problem one we can see there are 641 more promoters than detractors, Giving us and overall NPS Score of 44.27%\n",
    "\n",
    "### 2: Which track boasts the best promoter-to-detractor ratio?\n",
    "In problem two we compared the NPS Score (Promoters vs Detractors ratio) of each track, and confirmed that VR has a Higher NPS score around ~73.33% compared to Apps with roughly ~41.49%\n",
    "\n",
    "### 3: Does student satisfaction vary by location?\n",
    "Simply put, Yes: Student satisfaction varies by location\n",
    "\n",
    "\n",
    "### 4: Does the student experience get better the longer that they are enrolled at the Summer Academy?\n",
    "##### Yes and No, heres why:\n",
    "Yes, In the beginning the overal pacing was either a little slow or was way to slow\n",
    "Then latter in the course it comes closer to being just right of a pacing. As well,\n",
    "No, In the beginning the overal rating was higher 8-10 but as the course continued\n",
    "those values drop out.\n",
    "\n",
    "\n",
    "\n",
    "# Conclusions\n",
    "* Expand the Atlanta, LA, and Beijing branches\n",
    "* Shut down the Hong Kong branch\n",
    "* Speed up the pace of the Apps track a little bit everywhere except Atlanta and Redwood City\n",
    "* Focus on improving the curriculum of Apps and Apps, Explorer\n",
    "* Keep an eye on Week 3-4 to ensure people don't lose interest"
   ]
  },
  {
   "cell_type": "code",
   "execution_count": 21,
   "metadata": {},
   "outputs": [
    {
     "ename": "ModuleNotFoundError",
     "evalue": "No module named 'quandl'",
     "output_type": "error",
     "traceback": [
      "\u001b[0;31m----------------------------------------------------------\u001b[0m",
      "\u001b[0;31mModuleNotFoundError\u001b[0m      Traceback (most recent call last)",
      "\u001b[0;32m<ipython-input-21-c982d674eccd>\u001b[0m in \u001b[0;36m<module>\u001b[0;34m\u001b[0m\n\u001b[0;32m----> 1\u001b[0;31m \u001b[0;32mimport\u001b[0m \u001b[0mquandl\u001b[0m\u001b[0;34m\u001b[0m\u001b[0;34m\u001b[0m\u001b[0m\n\u001b[0m",
      "\u001b[0;31mModuleNotFoundError\u001b[0m: No module named 'quandl'"
     ]
    }
   ],
   "source": [
    "import quandl"
   ]
  },
  {
   "cell_type": "code",
   "execution_count": null,
   "metadata": {},
   "outputs": [],
   "source": []
  }
 ],
 "metadata": {
  "kernelspec": {
   "display_name": "Python 3",
   "language": "python",
   "name": "python3"
  },
  "language_info": {
   "codemirror_mode": {
    "name": "ipython",
    "version": 3
   },
   "file_extension": ".py",
   "mimetype": "text/x-python",
   "name": "python",
   "nbconvert_exporter": "python",
   "pygments_lexer": "ipython3",
   "version": "3.8.1"
  }
 },
 "nbformat": 4,
 "nbformat_minor": 2
}
