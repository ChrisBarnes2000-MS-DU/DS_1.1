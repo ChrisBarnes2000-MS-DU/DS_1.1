{
 "cells": [
  {
   "cell_type": "markdown",
   "metadata": {
    "slideshow": {
     "slide_type": "slide"
    }
   },
   "source": [
    "# Midterm Project - NPS Data Analysis"
   ]
  },
  {
   "cell_type": "markdown",
   "metadata": {
    "slideshow": {
     "slide_type": "fragment"
    }
   },
   "source": [
    "### Project Timeline\n",
    "- Description & data given: Thursday, April 9\n",
    "- Data cleaning check-in: Tue, April 14\n",
    "- In-class presentations: Tuesday, April 21"
   ]
  },
  {
   "cell_type": "code",
   "execution_count": 1,
   "metadata": {
    "slideshow": {
     "slide_type": "slide"
    }
   },
   "outputs": [],
   "source": [
    "# Pandas is a library for basic data analysis\n",
    "import pandas as pd\n",
    "\n",
    "# NumPy is a library for advanced mathematical computation\n",
    "import numpy as np\n",
    "\n",
    "# MatPlotLib is a library for basic data visualization\n",
    "import matplotlib.pyplot as plt\n",
    "\n",
    "# SeaBorn is a library for advanced data visualization\n",
    "import seaborn as sns"
   ]
  },
  {
   "cell_type": "code",
   "execution_count": 2,
   "metadata": {
    "slideshow": {
     "slide_type": "fragment"
    }
   },
   "outputs": [],
   "source": [
    "df = pd.read_csv('Datasets/Student Feedback Surveys-Superview.csv')"
   ]
  },
  {
   "cell_type": "code",
   "execution_count": 3,
   "metadata": {
    "slideshow": {
     "slide_type": "subslide"
    }
   },
   "outputs": [
    {
     "data": {
      "text/html": [
       "<div>\n",
       "<style scoped>\n",
       "    .dataframe tbody tr th:only-of-type {\n",
       "        vertical-align: middle;\n",
       "    }\n",
       "\n",
       "    .dataframe tbody tr th {\n",
       "        vertical-align: top;\n",
       "    }\n",
       "\n",
       "    .dataframe thead th {\n",
       "        text-align: right;\n",
       "    }\n",
       "</style>\n",
       "<table border=\"1\" class=\"dataframe\">\n",
       "  <thead>\n",
       "    <tr style=\"text-align: right;\">\n",
       "      <th></th>\n",
       "      <th>ID</th>\n",
       "      <th>Location</th>\n",
       "      <th>Track</th>\n",
       "      <th>Week</th>\n",
       "      <th>Rating (Num)</th>\n",
       "      <th>Schedule Pacing</th>\n",
       "    </tr>\n",
       "  </thead>\n",
       "  <tbody>\n",
       "    <tr>\n",
       "      <th>0</th>\n",
       "      <td>134</td>\n",
       "      <td>San Francisco</td>\n",
       "      <td>Apps, Explorer</td>\n",
       "      <td>Week 1</td>\n",
       "      <td>3</td>\n",
       "      <td>Just right</td>\n",
       "    </tr>\n",
       "    <tr>\n",
       "      <th>1</th>\n",
       "      <td>36</td>\n",
       "      <td>Los Angeles</td>\n",
       "      <td>Apps</td>\n",
       "      <td>Week 1</td>\n",
       "      <td>4</td>\n",
       "      <td>A little too fast</td>\n",
       "    </tr>\n",
       "    <tr>\n",
       "      <th>2</th>\n",
       "      <td>117</td>\n",
       "      <td>San Francisco</td>\n",
       "      <td>Games</td>\n",
       "      <td>Week 1</td>\n",
       "      <td>4</td>\n",
       "      <td>Way too slow</td>\n",
       "    </tr>\n",
       "    <tr>\n",
       "      <th>3</th>\n",
       "      <td>253</td>\n",
       "      <td>NaN</td>\n",
       "      <td>NaN</td>\n",
       "      <td>Week 2</td>\n",
       "      <td>4</td>\n",
       "      <td>A little too fast</td>\n",
       "    </tr>\n",
       "    <tr>\n",
       "      <th>4</th>\n",
       "      <td>350</td>\n",
       "      <td>New York City</td>\n",
       "      <td>Apps, Explorer</td>\n",
       "      <td>Week 1</td>\n",
       "      <td>4</td>\n",
       "      <td>Just right</td>\n",
       "    </tr>\n",
       "  </tbody>\n",
       "</table>\n",
       "</div>"
      ],
      "text/plain": [
       "    ID       Location           Track    Week Rating (Num)    Schedule Pacing\n",
       "0  134  San Francisco  Apps, Explorer  Week 1            3         Just right\n",
       "1   36    Los Angeles            Apps  Week 1            4  A little too fast\n",
       "2  117  San Francisco           Games  Week 1            4       Way too slow\n",
       "3  253            NaN             NaN  Week 2            4  A little too fast\n",
       "4  350  New York City  Apps, Explorer  Week 1            4         Just right"
      ]
     },
     "execution_count": 3,
     "metadata": {},
     "output_type": "execute_result"
    }
   ],
   "source": [
    "df.head()"
   ]
  },
  {
   "cell_type": "code",
   "execution_count": 4,
   "metadata": {
    "slideshow": {
     "slide_type": "fragment"
    }
   },
   "outputs": [
    {
     "data": {
      "text/plain": [
       "Index(['ID', 'Location', 'Track', 'Week', 'Rating (Num)', 'Schedule Pacing'], dtype='object')"
      ]
     },
     "execution_count": 4,
     "metadata": {},
     "output_type": "execute_result"
    }
   ],
   "source": [
    "df.columns"
   ]
  },
  {
   "cell_type": "markdown",
   "metadata": {
    "slideshow": {
     "slide_type": "subslide"
    }
   },
   "source": [
    "## Description of Problem\n",
    "Make School’s Summer Academy typically lasts for 8 weeks, although this can vary by location.\n",
    "Management wants to make sure that students continue to be satisfied with their experience as the program scales. \n",
    "Every week, students are given a survey asking their satisfaction with the program in the form of a Net Promoter Score (NPS) question, which is a tool commonly used to measure customer loyalty and promotion. \n",
    "\n",
    "You have been given data from Summer Academy in 2016 (optional) and 2017 (mandatory). Download the data [here](https://drive.google.com/file/d/1IMb2HWKoxkayxWe9j_5x2DkJZriWnNDN/view).\n",
    "\n",
    "#### You’ve seen NPS before if you’ve been asked a question like:\n",
    "    “On a scale of 1 to 10, how likely are you to recommend [X] to a friend or colleague?”\n",
    "\n",
    "- Clean and investigate Make School NPS data to find interesting and actionable trends that help inform decision-makers.\n",
    "\n",
    "- You should create a data dictionary that describes what each column’s possible values mean.\n",
    "\n",
    "- Create a presentation in a Jupyter Notebook using data visualizations and other techniques that allow non-technical team members to understand your findings. "
   ]
  },
  {
   "cell_type": "markdown",
   "metadata": {
    "slideshow": {
     "slide_type": "subslide"
    }
   },
   "source": [
    "### Background on NPS\n",
    "\n",
    "#### NPS segments all responses between 1 and 10 into three categories based on their sentiment:\n",
    "- Promoter (9 – 10)\n",
    "- Passive (7 – 8)\n",
    "- Detractor (1 – 6)\n",
    "\n",
    "#### To calculate NPS, companies follow these steps:\n",
    "1. Segment all responses into Promoter, Passive, and Detractor categories.\n",
    "2. Calculate the percentage of responses in each category out of the total number of responses to the survey.\n",
    "3. Subtract the Detractors percentage from the Promoters percentage. This is the NPS.\n",
    "\n",
    "In other words, NPS can be calculated with this equation:\n",
    "#### NPS = ( (Promoters - Detractors) / (Promoters + Passives + Detractors) ) * 100\n",
    "\n",
    "NPS can range from –100 (if everyone is a detractor) to +100 (if everyone is a promoter).\n",
    "\n",
    "For more detailed information on NPS, [read this article](https://blog.capterra.com/what-is-nps-net-promoter-score-explained/).\n"
   ]
  },
  {
   "cell_type": "code",
   "execution_count": 27,
   "metadata": {
    "slideshow": {
     "slide_type": "subslide"
    }
   },
   "outputs": [
    {
     "data": {
      "text/plain": [
       "pro    760\n",
       "pas    569\n",
       "det    119\n",
       "nan      5\n",
       "Name: NPS, dtype: int64"
      ]
     },
     "execution_count": 27,
     "metadata": {},
     "output_type": "execute_result"
    }
   ],
   "source": [
    "\"\"\"Create new column as NPS Score \n",
    "    Promoter (9 – 10)\n",
    "    Passive (7 – 8)\n",
    "    Detractor (1 – 6)\"\"\"\n",
    "df['NPS'] = df['Rating (Num)'].map( {'1': 'det', '2': 'det', '3': 'det', '4': 'det', '5': 'det', '6': 'det', '7': 'pas', '8': 'pas', '9': 'pro', '10': 'pro'} ).astype(str)\n",
    "df['NPS'].value_counts()"
   ]
  },
  {
   "cell_type": "markdown",
   "metadata": {
    "slideshow": {
     "slide_type": "slide"
    }
   },
   "source": [
    "### Questions to Consider Answering\n",
    "In this scenario, you’ve just been given access to this data from your boss, with the instructions to “See if you can find anything in here that can help the business.” – This is a very broad set of instructions.  In order to complete this task well, you may want to consider finding answers to the following questions:\n",
    "\n",
    "- How many more promoters are there than detractors across our 2017 data?\n",
    "- Which track boasts the best promoter-to-detractor ratio?\n",
    "- Does the student experience get better the longer that they are enrolled at the Summer Academy?\n",
    "- Does student satisfaction vary by location?\n",
    "- What are things we could find here that could “help the business”?\n",
    "- What sorts of information does this dataset contain?\n",
    "- What kinds of questions might we be able to answer with this data?\n",
    "- What kinds of questions can’t we answer with this data?\n",
    "- What sorts of information might be actionable?\n",
    "- How can you present your findings in a way that non-technical employees can understand and use to make decisions?\n"
   ]
  },
  {
   "cell_type": "markdown",
   "metadata": {
    "slideshow": {
     "slide_type": "slide"
    }
   },
   "source": [
    "## How many more promoters are there than detractors across our 2017 data?"
   ]
  },
  {
   "cell_type": "code",
   "execution_count": 39,
   "metadata": {},
   "outputs": [],
   "source": [
    "# df['NPS'].value_counts().plot.box()"
   ]
  },
  {
   "cell_type": "code",
   "execution_count": null,
   "metadata": {},
   "outputs": [],
   "source": []
  },
  {
   "cell_type": "code",
   "execution_count": null,
   "metadata": {},
   "outputs": [],
   "source": []
  },
  {
   "cell_type": "code",
   "execution_count": null,
   "metadata": {},
   "outputs": [],
   "source": [
    "# How can you present your findings in a way that non-technical employees can understand and use to make decisions?\n",
    "\n",
    "# Does the student experience get better the longer that they are enrolled at the Summer Academy?\n",
    "# Does student satisfaction vary by location?\n",
    "\n",
    "# What are things we could find here that could “help the business”?\n",
    "# What sorts of information does this dataset contain?\n",
    "# What kinds of questions might we be able to answer with this data?\n",
    "# What kinds of questions can’t we answer with this data?\n",
    "# What sorts of information might be actionable?\n"
   ]
  },
  {
   "cell_type": "code",
   "execution_count": null,
   "metadata": {},
   "outputs": [],
   "source": []
  },
  {
   "cell_type": "code",
   "execution_count": null,
   "metadata": {},
   "outputs": [],
   "source": []
  },
  {
   "cell_type": "markdown",
   "metadata": {},
   "source": [
    "## Which track boasts the best promoter-to-detractor ratio?"
   ]
  },
  {
   "cell_type": "code",
   "execution_count": null,
   "metadata": {},
   "outputs": [],
   "source": []
  },
  {
   "cell_type": "code",
   "execution_count": null,
   "metadata": {},
   "outputs": [],
   "source": []
  },
  {
   "cell_type": "code",
   "execution_count": 35,
   "metadata": {},
   "outputs": [
    {
     "name": "stdout",
     "output_type": "stream",
     "text": [
      "# of unique Tracks:\t\t 5\n",
      "# of Null Track values:\t\t 47\n",
      "# of people in Apps Track:\t 871\n",
      "# of people in Explorer Track:\t 0\n",
      "# of people in Games Track:\t 208\n",
      "\n"
     ]
    }
   ],
   "source": [
    "print('# of unique Tracks:\\t\\t', df['Track'].nunique())\n",
    "print('# of Null Track values:\\t\\t', df['Track'].isna().sum())\n",
    "print('# of people in Apps Track:\\t', len(df[ df['Track'] ==  'Apps']))\n",
    "print('# of people in Explorer Track:\\t', len(df[ df['Track'] ==  'Explorer']))\n",
    "print('# of people in Games Track:\\t', len(df[ df['Track'] ==  'Games']))\n",
    "print()"
   ]
  },
  {
   "cell_type": "code",
   "execution_count": 11,
   "metadata": {},
   "outputs": [
    {
     "data": {
      "text/plain": [
       "San Francisco    360\n",
       "New York City    330\n",
       "Santa Clara      201\n",
       "Los Angeles      106\n",
       "Beijing           78\n",
       "Chicago           70\n",
       "Tokyo             65\n",
       "Redwood City      58\n",
       "Oakland           47\n",
       "Washington DC     47\n",
       "Atlanta           33\n",
       "Hong Kong         11\n",
       "Name: Location, dtype: int64"
      ]
     },
     "execution_count": 11,
     "metadata": {},
     "output_type": "execute_result"
    }
   ],
   "source": [
    "# Location Distribution\n",
    "#    - Name of Locations  | Total number form loc\n",
    "df['Location'].value_counts()"
   ]
  },
  {
   "cell_type": "code",
   "execution_count": null,
   "metadata": {},
   "outputs": [],
   "source": []
  },
  {
   "cell_type": "code",
   "execution_count": 12,
   "metadata": {},
   "outputs": [
    {
     "data": {
      "image/png": "[encoded data removed]",
      "text/plain": [
       "<Figure size 432x288 with 1 Axes>"
      ]
     },
     "metadata": {
      "needs_background": "light"
     },
     "output_type": "display_data"
    },
    {
     "data": {
      "text/plain": [
       "10    101\n",
       "8      95\n",
       "9      93\n",
       "7      40\n",
       "6      17\n",
       "5       6\n",
       "3       4\n",
       "4       3\n",
       "2       1\n",
       "Name: Rating (Num), dtype: int64"
      ]
     },
     "execution_count": 12,
     "metadata": {},
     "output_type": "execute_result"
    }
   ],
   "source": [
    "# Ratings from Local SF Residence\n",
    "df[ df['Location'] == 'San Francisco']['Rating (Num)'].hist(bins=16)\n",
    "plt.show()\n",
    "df[ df['Location'] == 'San Francisco']['Rating (Num)'].value_counts()"
   ]
  },
  {
   "cell_type": "code",
   "execution_count": null,
   "metadata": {},
   "outputs": [],
   "source": []
  },
  {
   "cell_type": "code",
   "execution_count": null,
   "metadata": {},
   "outputs": [],
   "source": []
  },
  {
   "cell_type": "code",
   "execution_count": null,
   "metadata": {},
   "outputs": [],
   "source": []
  },
  {
   "cell_type": "code",
   "execution_count": null,
   "metadata": {},
   "outputs": [],
   "source": []
  },
  {
   "cell_type": "code",
   "execution_count": null,
   "metadata": {},
   "outputs": [],
   "source": []
  },
  {
   "cell_type": "code",
   "execution_count": null,
   "metadata": {},
   "outputs": [],
   "source": []
  },
  {
   "cell_type": "code",
   "execution_count": null,
   "metadata": {},
   "outputs": [],
   "source": []
  },
  {
   "cell_type": "code",
   "execution_count": null,
   "metadata": {},
   "outputs": [],
   "source": []
  },
  {
   "cell_type": "code",
   "execution_count": null,
   "metadata": {},
   "outputs": [],
   "source": [
    "df[ df['Embarked'] == 'C']['Age'].hist(bins=16)\n",
    "plt.show()"
   ]
  },
  {
   "cell_type": "code",
   "execution_count": null,
   "metadata": {},
   "outputs": [],
   "source": [
    "df[ df['Embarked'] == 'C']['Age'].plot(kind='kde')"
   ]
  },
  {
   "cell_type": "code",
   "execution_count": null,
   "metadata": {},
   "outputs": [],
   "source": []
  },
  {
   "cell_type": "code",
   "execution_count": null,
   "metadata": {},
   "outputs": [],
   "source": []
  },
  {
   "cell_type": "markdown",
   "metadata": {},
   "source": [
    "## Project Summary\n",
    "For this project of DS 1.1, we investigated real-world data from feedback surveys completed during Make School’s Summer Academy program!\n",
    "\n",
    "In completing this project we strengthen our understanding of:\n",
    "- The overall Data Science process (define, measure, analyze, improve, control)\n",
    "- Aggregating datasets from multiple files, locations, and types\n",
    "- The importance of scripting and automating data preprocessing\n",
    "- Transforming data so that it has the same scale and data type\n",
    "- Best practices for investigating data and asking interesting questions\n",
    "- Data Visualization strategies\n",
    "- Distilling findings down into small, understandable, non-technical (!) presentations"
   ]
  }
 ],
 "metadata": {
  "celltoolbar": "Slideshow",
  "kernelspec": {
   "display_name": "Python 3",
   "language": "python",
   "name": "python3"
  },
  "language_info": {
   "codemirror_mode": {
    "name": "ipython",
    "version": 3
   },
   "file_extension": ".py",
   "mimetype": "text/x-python",
   "name": "python",
   "nbconvert_exporter": "python",
   "pygments_lexer": "ipython3",
   "version": "3.7.6"
  }
 },
 "nbformat": 4,
 "nbformat_minor": 2
}
