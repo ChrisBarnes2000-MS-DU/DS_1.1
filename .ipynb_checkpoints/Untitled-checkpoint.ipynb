{
 "cells": [
  {
   "cell_type": "code",
   "execution_count": 1,
   "metadata": {},
   "outputs": [],
   "source": [
    "from scipy import stats\n",
    "import numpy as np"
   ]
  },
  {
   "cell_type": "markdown",
   "metadata": {},
   "source": [
    "μ = Population mean for Scenario A\n",
    "\n",
    "𝞼 = Population standard deviation (std) for Scenario A\n",
    "\n",
    "𝛼= statistical significance level\n",
    "\n",
    "X̅ = Sample Mean for Scenario B\n",
    "\n",
    "N = Number of samples (e.g. = 100) for Scenario B\n",
    "\n",
    "S = Sample std for Scenario B\n",
    "\n",
    "μx   = Population mean for Scenario A is unknown\n"
   ]
  },
  {
   "cell_type": "markdown",
   "metadata": {},
   "source": [
    "## The steps to reject or accept the null hypothesis\n",
    "1- The population mean is known, $\\mu$\n",
    "\n",
    "2- The sample mean is known, $\\bar{x}$\n",
    "\n",
    "3- Define a significant level, $\\alpha$\n",
    "\n",
    "4- If $N$ > 30 or $\\sigma$ is known, then calculate zscore, $z_{score} = \\frac{\\bar{x} - \\mu}{\\sigma/\\sqrt{N}}$\n",
    "\n",
    "5- Calculate p-value, $p_{value} = 2SF(|z_{score}|)$\n",
    "\n",
    "6- Decision: if $p_{value}<\\alpha$ then reject the null hypothesis\n",
    "\n",
    "## Activity: z-test\n",
    "Write a function that takes the mean, significant level, and samples of the population as the input arguments.\n",
    "\n",
    "This function should then decide to reject ot accept the null hypothesis for the drug effect on rats\n",
    "\n",
    "Recall: $\\mu = 1.2$, $\\bar{x} = 1.05$, $N = 100$ and $\\sigma = 0.5$"
   ]
  },
  {
   "cell_type": "code",
   "execution_count": 2,
   "metadata": {},
   "outputs": [],
   "source": [
    "def accept_or_reject_null_hypothesis(mu, sample_mean, significant_level, N, sigma):\n",
    "    # Calculate standard deviation of the sampling distribution\n",
    "    sample_std = sigma / np.sqrt(N)\n",
    "    \n",
    "    # Calculate z-score from population mean (mu), sample mean and sample std\n",
    "    z = (sample_mean - mu) / sample_std\n",
    "    \n",
    "    # Calculate p-value from z-score\n",
    "    p_value = 2 * norm.cdf(-np.abs(z))\n",
    "    \n",
    "    # Determine whether to accept or reject null hypothesis\n",
    "    if p_value < significant_level:\n",
    "        print('reject null hypothesis')\n",
    "    else:\n",
    "        print('accept null hypothesis')"
   ]
  },
  {
   "cell_type": "markdown",
   "metadata": {},
   "source": [
    "## Activity: t-test\n",
    "The average British man is 175.3 cm tall. A survey recorded the heights of 10 British men who drank a special type of Milk for 2 years.\n",
    "\n",
    "Calculate the t-score from the previous formula and use the available function in stats.ttest_1samp. Compare what you will get with x as your input:\n",
    "\n",
    "x = [177.3, 182.7, 169.6, 176.3, 180.3, 179.4, 178.5, 177.2, 181.8, 176.5]\n",
    "\n",
    "We want to know whether the mean of the sample is different from the population mean"
   ]
  },
  {
   "cell_type": "code",
   "execution_count": 3,
   "metadata": {},
   "outputs": [
    {
     "name": "stdout",
     "output_type": "stream",
     "text": [
      "t-statistic:  2.295568968083183\n",
      "t =  2.295568968083183 , p =  0.04734137339747034\n"
     ]
    }
   ],
   "source": [
    "x = [177.3, 182.7, 169.6, 176.3, 180.3, 179.4, 178.5, 177.2, 181.8, 176.5]\n",
    "mu = 175.3\n",
    "sample_mean = np.array(x).mean()\n",
    "\n",
    "# Calculate the standard deviation of sample distribution\n",
    "\n",
    "N = len(x) # number of data samples\n",
    "S = np.array(x).std(ddof=1)\n",
    "den = S /np.sqrt(N)\n",
    "\n",
    "# t-test from formula\n",
    "t = (sample_mean - mu)/den\n",
    "print(\"t-statistic: \",t)\n",
    "\n",
    "# one sample t-test that gives you the p-value too can be done with scipy as follows:\n",
    "t, p = stats.ttest_1samp(x, mu)\n",
    "print(\"t = \", t, \", p = \", p)"
   ]
  },
  {
   "cell_type": "markdown",
   "metadata": {},
   "source": [
    "## Activity: z-test or t-test?\n",
    "Write a function that determine whether use z-test or t-test in order to accept or reject null hypothesis"
   ]
  },
  {
   "cell_type": "code",
   "execution_count": 8,
   "metadata": {},
   "outputs": [
    {
     "name": "stdout",
     "output_type": "stream",
     "text": [
      "reject null hypothesis\n"
     ]
    }
   ],
   "source": [
    "def z_t_null_hypothesis(data_sample, mu, sigma, significant_level):\n",
    "    if sigma:\n",
    "        z_score = (np.mean(data_sample)-mu)/(sigma/np.sqrt(len(data_sample)))\n",
    "        p = stats.norm.sf(abs(z_score))*2\n",
    "    elif len(data_sample) > 30:\n",
    "        z_score = (np.mean(data_sample)-mu)/(np.std(data_sample)/np.sqrt(len(data_sample)))\n",
    "        p = stats.norm.sf(abs(z_score))*2\n",
    "    else:\n",
    "        t, p = stats.ttest_1samp(data_sample, mu)\n",
    "\n",
    "    if p < significant_level:\n",
    "        print('reject null hypothesis')\n",
    "\n",
    "    else:\n",
    "        print('accept null hypothesis')\n",
    "    \n",
    "z_t_null_hypothesis(x, 30, None, 0.05)"
   ]
  },
  {
   "cell_type": "code",
   "execution_count": 5,
   "metadata": {},
   "outputs": [],
   "source": [
    "# def calc():\n",
    "#     z_score = (X̅-μ) / (𝞼/√N)\n",
    "\n",
    "#     Pvalue ≜ 2norm ᐧ sf(z_score)\n",
    "\n",
    "#     If Pvalue < 𝛼: reject Null Hypothesis\n",
    "\n",
    "        \n",
    "    \n",
    "#     t_score = (X̅-μ) / (S/√N)\n",
    "\n",
    "#     Pvalue = 2t ᐧ sf(t_score)\n",
    "\n",
    "#     If Pvalue < 𝛼: reject Null Hypothesis\n"
   ]
  },
  {
   "cell_type": "code",
   "execution_count": null,
   "metadata": {},
   "outputs": [],
   "source": []
  }
 ],
 "metadata": {
  "kernelspec": {
   "display_name": "Python 3",
   "language": "python",
   "name": "python3"
  },
  "language_info": {
   "codemirror_mode": {
    "name": "ipython",
    "version": 3
   },
   "file_extension": ".py",
   "mimetype": "text/x-python",
   "name": "python",
   "nbconvert_exporter": "python",
   "pygments_lexer": "ipython3",
   "version": "3.7.6"
  }
 },
 "nbformat": 4,
 "nbformat_minor": 2
}
