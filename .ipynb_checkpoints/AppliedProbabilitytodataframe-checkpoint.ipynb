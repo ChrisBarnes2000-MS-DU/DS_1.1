{
 "cells": [
  {
   "cell_type": "code",
   "execution_count": 1,
   "metadata": {},
   "outputs": [],
   "source": [
    "import numpy as np\n",
    "import pandas as pd\n",
    "\n",
    "df = pd.read_csv('Datasets/titanic.csv')"
   ]
  },
  {
   "cell_type": "code",
   "execution_count": 25,
   "metadata": {},
   "outputs": [
    {
     "data": {
      "text/plain": [
       "Index(['PassengerId', 'Survived', 'Pclass', 'Name', 'Sex', 'Age', 'SibSp',\n",
       "       'Parch', 'Ticket', 'Fare', 'Cabin', 'Embarked', 'Gender'],\n",
       "      dtype='object')"
      ]
     },
     "execution_count": 25,
     "metadata": {},
     "output_type": "execute_result"
    }
   ],
   "source": [
    "df.columns"
   ]
  },
  {
   "cell_type": "code",
   "execution_count": 2,
   "metadata": {},
   "outputs": [],
   "source": [
    "# create new column as gender when sex is femail its zero when mail its one\n",
    "df['Gender'] = df['Sex'].map( {'female': 0, 'male': 1} ).astype(int)"
   ]
  },
  {
   "cell_type": "code",
   "execution_count": 3,
   "metadata": {},
   "outputs": [],
   "source": [
    "female = sum(df['Gender'] == 0)  # total female\n",
    "male = sum(df['Gender'] == 1)  # total male"
   ]
  },
  {
   "cell_type": "code",
   "execution_count": 6,
   "metadata": {},
   "outputs": [
    {
     "name": "stdout",
     "output_type": "stream",
     "text": [
      "35.24\n"
     ]
    }
   ],
   "source": [
    "chance = (female / (female + male))*100\n",
    "print('%.2f' %chance)"
   ]
  },
  {
   "cell_type": "code",
   "execution_count": 8,
   "metadata": {},
   "outputs": [
    {
     "data": {
      "text/plain": [
       "35.24130190796858"
      ]
     },
     "execution_count": 8,
     "metadata": {},
     "output_type": "execute_result"
    }
   ],
   "source": [
    "len(df[df['Sex'] == 'female']) / len(df['Sex'])*100"
   ]
  },
  {
   "cell_type": "markdown",
   "metadata": {},
   "source": [
    "## Activity Questions\n",
    "\n",
    "- Given that some passengers paid over $100 for their ticket, what is the chance they survived?\n",
    "\n",
    "- Try, two approaches: P(survived = 1 | Fare > 100) directly\n",
    "Another way: Use Bayesian -> P(survived = 1 and Fare > 100)/ P(Fare > 100)\n",
    "Given that a passenger is under 30 but over 20 years old, what are the chances they are in first class?\n",
    "\n",
    "- Given that a female passenger was unmarried, what are the chances that she survived?\n",
    "\n",
    "- Given that a male passenger over 30 years did not survive, what are the odds that he paid less than $25 for a ticket?\n",
    "\n",
    "- What is the probability that a survived passenger was man?"
   ]
  },
  {
   "cell_type": "code",
   "execution_count": 22,
   "metadata": {},
   "outputs": [
    {
     "name": "stdout",
     "output_type": "stream",
     "text": [
      "1    39\n",
      "0    14\n",
      "Name: Survived, dtype: int64\n",
      "73.58\n"
     ]
    }
   ],
   "source": [
    "# Given that some passengers paid over $100 for their ticket, what is the chance they survived?\n",
    "len(df[(df['Survived'] == 1) &  (df['Fare'] >= 100)])/len(df[df['Fare'] >= 100])\n",
    "# or\n",
    "print(df[df['Fare'] >= 100]['Survived'].value_counts())\n",
    "print('%.2f' %((39/(39+14))*100))"
   ]
  },
  {
   "cell_type": "code",
   "execution_count": 113,
   "metadata": {},
   "outputs": [
    {
     "data": {
      "text/plain": [
       "608"
      ]
     },
     "execution_count": 113,
     "metadata": {},
     "output_type": "execute_result"
    }
   ],
   "source": [
    "# Given that a female passenger was unmarried, what are the chances that she survived?\n",
    "\n",
    "Prob_unmarried_female = df.groupby(df['Sex'] == 'Female')['SibSp'].value_counts()[0][0]\n",
    "Prob_survived = len(df[(df['Survived'] == 1)\n",
    "Prob_unmarried_female\n"
   ]
  },
  {
   "cell_type": "code",
   "execution_count": null,
   "metadata": {},
   "outputs": [],
   "source": []
  },
  {
   "cell_type": "code",
   "execution_count": 76,
   "metadata": {},
   "outputs": [
    {
     "name": "stdout",
     "output_type": "stream",
     "text": [
      "109\n"
     ]
    }
   ],
   "source": [
    "# Given that a male passenger over 30 years did not survive, what are the odds that he paid less than $25 for a ticket?\n",
    "# print(len(df))\n",
    "# print(len(df[(df['Survived'] == 1)]))\n",
    "# print((df[df['Sex'] == 'male']['Survived'].value_counts())/len(df))\n",
    "\n",
    "print((df[df['Survived'] == 1]['Sex'].value_counts()['male']))"
   ]
  },
  {
   "cell_type": "code",
   "execution_count": 54,
   "metadata": {},
   "outputs": [
    {
     "name": "stdout",
     "output_type": "stream",
     "text": [
      "5.95\n"
     ]
    }
   ],
   "source": [
    "# change of paying over $100\n",
    "print('%.2f' %((len(df[df['Fare'] >= 100])/len(df))*100))"
   ]
  },
  {
   "cell_type": "code",
   "execution_count": null,
   "metadata": {},
   "outputs": [],
   "source": []
  },
  {
   "cell_type": "code",
   "execution_count": null,
   "metadata": {},
   "outputs": [],
   "source": []
  },
  {
   "cell_type": "code",
   "execution_count": null,
   "metadata": {},
   "outputs": [],
   "source": []
  },
  {
   "cell_type": "code",
   "execution_count": null,
   "metadata": {},
   "outputs": [],
   "source": []
  },
  {
   "cell_type": "code",
   "execution_count": null,
   "metadata": {},
   "outputs": [],
   "source": [
    "# given that a passanger is under 30 but over 20, what are chances they are in first class\n"
   ]
  }
 ],
 "metadata": {
  "kernelspec": {
   "display_name": "Python 3",
   "language": "python",
   "name": "python3"
  },
  "language_info": {
   "codemirror_mode": {
    "name": "ipython",
    "version": 3
   },
   "file_extension": ".py",
   "mimetype": "text/x-python",
   "name": "python",
   "nbconvert_exporter": "python",
   "pygments_lexer": "ipython3",
   "version": "3.7.6"
  }
 },
 "nbformat": 4,
 "nbformat_minor": 2
}
